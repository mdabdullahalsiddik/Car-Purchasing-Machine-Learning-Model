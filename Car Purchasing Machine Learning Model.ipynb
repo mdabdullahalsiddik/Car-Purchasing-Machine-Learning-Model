{
 "cells": [
  {
   "cell_type": "code",
   "execution_count": 1,
   "id": "2082cf41",
   "metadata": {},
   "outputs": [],
   "source": [
    "#import laibary\n",
    "#unnassccary output not show\n",
    "import warnings as wr\n",
    "wr.filterwarnings(\"ignore\")\n",
    "import pandas as pd\n",
    "import matplotlib.pyplot as plt\n",
    "import seaborn as sns\n",
    "import numpy as np"
   ]
  },
  {
   "cell_type": "code",
   "execution_count": 2,
   "id": "55ceeb78",
   "metadata": {},
   "outputs": [],
   "source": [
    "# import dataset\n",
    "df = pd.read_csv(\"Car_Purchasing_Data.csv\")"
   ]
  },
  {
   "cell_type": "code",
   "execution_count": 3,
   "id": "ffb3d68c",
   "metadata": {},
   "outputs": [
    {
     "data": {
      "text/html": [
       "<div>\n",
       "<style scoped>\n",
       "    .dataframe tbody tr th:only-of-type {\n",
       "        vertical-align: middle;\n",
       "    }\n",
       "\n",
       "    .dataframe tbody tr th {\n",
       "        vertical-align: top;\n",
       "    }\n",
       "\n",
       "    .dataframe thead th {\n",
       "        text-align: right;\n",
       "    }\n",
       "</style>\n",
       "<table border=\"1\" class=\"dataframe\">\n",
       "  <thead>\n",
       "    <tr style=\"text-align: right;\">\n",
       "      <th></th>\n",
       "      <th>Customer Name</th>\n",
       "      <th>Customer e-mail</th>\n",
       "      <th>Country</th>\n",
       "      <th>Gender</th>\n",
       "      <th>Age</th>\n",
       "      <th>Annual Salary</th>\n",
       "      <th>Credit Card Debt</th>\n",
       "      <th>Net Worth</th>\n",
       "      <th>Car Purchase Amount</th>\n",
       "    </tr>\n",
       "  </thead>\n",
       "  <tbody>\n",
       "    <tr>\n",
       "      <th>0</th>\n",
       "      <td>Martina Avila</td>\n",
       "      <td>cubilia.Curae.Phasellus@quisaccumsanconvallis.edu</td>\n",
       "      <td>USA</td>\n",
       "      <td>0</td>\n",
       "      <td>42</td>\n",
       "      <td>62812.09301</td>\n",
       "      <td>11609.380910</td>\n",
       "      <td>238961.2505</td>\n",
       "      <td>35321.45877</td>\n",
       "    </tr>\n",
       "    <tr>\n",
       "      <th>1</th>\n",
       "      <td>Harlan Barnes</td>\n",
       "      <td>eu.dolor@diam.co.uk</td>\n",
       "      <td>USA</td>\n",
       "      <td>0</td>\n",
       "      <td>41</td>\n",
       "      <td>66646.89292</td>\n",
       "      <td>9572.957136</td>\n",
       "      <td>530973.9078</td>\n",
       "      <td>45115.52566</td>\n",
       "    </tr>\n",
       "    <tr>\n",
       "      <th>2</th>\n",
       "      <td>Naomi Rodriquez</td>\n",
       "      <td>vulputate.mauris.sagittis@ametconsectetueradip...</td>\n",
       "      <td>USA</td>\n",
       "      <td>1</td>\n",
       "      <td>43</td>\n",
       "      <td>53798.55112</td>\n",
       "      <td>11160.355060</td>\n",
       "      <td>638467.1773</td>\n",
       "      <td>42925.70921</td>\n",
       "    </tr>\n",
       "    <tr>\n",
       "      <th>3</th>\n",
       "      <td>Jade Cunningham</td>\n",
       "      <td>malesuada@dignissim.com</td>\n",
       "      <td>USA</td>\n",
       "      <td>1</td>\n",
       "      <td>58</td>\n",
       "      <td>79370.03798</td>\n",
       "      <td>14426.164850</td>\n",
       "      <td>548599.0524</td>\n",
       "      <td>67422.36313</td>\n",
       "    </tr>\n",
       "    <tr>\n",
       "      <th>4</th>\n",
       "      <td>Cedric Leach</td>\n",
       "      <td>felis.ullamcorper.viverra@egetmollislectus.net</td>\n",
       "      <td>USA</td>\n",
       "      <td>1</td>\n",
       "      <td>57</td>\n",
       "      <td>59729.15130</td>\n",
       "      <td>5358.712177</td>\n",
       "      <td>560304.0671</td>\n",
       "      <td>55915.46248</td>\n",
       "    </tr>\n",
       "  </tbody>\n",
       "</table>\n",
       "</div>"
      ],
      "text/plain": [
       "     Customer Name                                    Customer e-mail Country  \\\n",
       "0    Martina Avila  cubilia.Curae.Phasellus@quisaccumsanconvallis.edu     USA   \n",
       "1    Harlan Barnes                                eu.dolor@diam.co.uk     USA   \n",
       "2  Naomi Rodriquez  vulputate.mauris.sagittis@ametconsectetueradip...     USA   \n",
       "3  Jade Cunningham                            malesuada@dignissim.com     USA   \n",
       "4     Cedric Leach     felis.ullamcorper.viverra@egetmollislectus.net     USA   \n",
       "\n",
       "   Gender  Age  Annual Salary  Credit Card Debt    Net Worth  \\\n",
       "0       0   42    62812.09301      11609.380910  238961.2505   \n",
       "1       0   41    66646.89292       9572.957136  530973.9078   \n",
       "2       1   43    53798.55112      11160.355060  638467.1773   \n",
       "3       1   58    79370.03798      14426.164850  548599.0524   \n",
       "4       1   57    59729.15130       5358.712177  560304.0671   \n",
       "\n",
       "   Car Purchase Amount  \n",
       "0          35321.45877  \n",
       "1          45115.52566  \n",
       "2          42925.70921  \n",
       "3          67422.36313  \n",
       "4          55915.46248  "
      ]
     },
     "execution_count": 3,
     "metadata": {},
     "output_type": "execute_result"
    }
   ],
   "source": [
    "# dataset 1st 5 row show \n",
    "df.head()"
   ]
  },
  {
   "cell_type": "code",
   "execution_count": 4,
   "id": "a5815261",
   "metadata": {},
   "outputs": [
    {
     "data": {
      "text/html": [
       "<div>\n",
       "<style scoped>\n",
       "    .dataframe tbody tr th:only-of-type {\n",
       "        vertical-align: middle;\n",
       "    }\n",
       "\n",
       "    .dataframe tbody tr th {\n",
       "        vertical-align: top;\n",
       "    }\n",
       "\n",
       "    .dataframe thead th {\n",
       "        text-align: right;\n",
       "    }\n",
       "</style>\n",
       "<table border=\"1\" class=\"dataframe\">\n",
       "  <thead>\n",
       "    <tr style=\"text-align: right;\">\n",
       "      <th></th>\n",
       "      <th>Customer Name</th>\n",
       "      <th>Customer e-mail</th>\n",
       "      <th>Country</th>\n",
       "      <th>Gender</th>\n",
       "      <th>Age</th>\n",
       "      <th>Annual Salary</th>\n",
       "      <th>Credit Card Debt</th>\n",
       "      <th>Net Worth</th>\n",
       "      <th>Car Purchase Amount</th>\n",
       "    </tr>\n",
       "  </thead>\n",
       "  <tbody>\n",
       "    <tr>\n",
       "      <th>495</th>\n",
       "      <td>Walter</td>\n",
       "      <td>ligula@Cumsociis.ca</td>\n",
       "      <td>USA</td>\n",
       "      <td>0</td>\n",
       "      <td>41</td>\n",
       "      <td>71942.40291</td>\n",
       "      <td>6995.902524</td>\n",
       "      <td>541670.1016</td>\n",
       "      <td>48901.44342</td>\n",
       "    </tr>\n",
       "    <tr>\n",
       "      <th>496</th>\n",
       "      <td>Vanna</td>\n",
       "      <td>Cum.sociis.natoque@Sedmolestie.edu</td>\n",
       "      <td>USA</td>\n",
       "      <td>1</td>\n",
       "      <td>38</td>\n",
       "      <td>56039.49793</td>\n",
       "      <td>12301.456790</td>\n",
       "      <td>360419.0988</td>\n",
       "      <td>31491.41457</td>\n",
       "    </tr>\n",
       "    <tr>\n",
       "      <th>497</th>\n",
       "      <td>Pearl</td>\n",
       "      <td>penatibus.et@massanonante.com</td>\n",
       "      <td>USA</td>\n",
       "      <td>1</td>\n",
       "      <td>54</td>\n",
       "      <td>68888.77805</td>\n",
       "      <td>10611.606860</td>\n",
       "      <td>764531.3203</td>\n",
       "      <td>64147.28888</td>\n",
       "    </tr>\n",
       "    <tr>\n",
       "      <th>498</th>\n",
       "      <td>Nell</td>\n",
       "      <td>Quisque.varius@arcuVivamussit.net</td>\n",
       "      <td>USA</td>\n",
       "      <td>1</td>\n",
       "      <td>59</td>\n",
       "      <td>49811.99062</td>\n",
       "      <td>14013.034510</td>\n",
       "      <td>337826.6382</td>\n",
       "      <td>45442.15353</td>\n",
       "    </tr>\n",
       "    <tr>\n",
       "      <th>499</th>\n",
       "      <td>Marla</td>\n",
       "      <td>Camaron.marla@hotmail.com</td>\n",
       "      <td>USA</td>\n",
       "      <td>1</td>\n",
       "      <td>47</td>\n",
       "      <td>61370.67766</td>\n",
       "      <td>9391.341628</td>\n",
       "      <td>462946.4924</td>\n",
       "      <td>45107.22566</td>\n",
       "    </tr>\n",
       "  </tbody>\n",
       "</table>\n",
       "</div>"
      ],
      "text/plain": [
       "    Customer Name                     Customer e-mail Country  Gender  Age  \\\n",
       "495        Walter                 ligula@Cumsociis.ca     USA       0   41   \n",
       "496         Vanna  Cum.sociis.natoque@Sedmolestie.edu     USA       1   38   \n",
       "497         Pearl       penatibus.et@massanonante.com     USA       1   54   \n",
       "498          Nell   Quisque.varius@arcuVivamussit.net     USA       1   59   \n",
       "499         Marla           Camaron.marla@hotmail.com     USA       1   47   \n",
       "\n",
       "     Annual Salary  Credit Card Debt    Net Worth  Car Purchase Amount  \n",
       "495    71942.40291       6995.902524  541670.1016          48901.44342  \n",
       "496    56039.49793      12301.456790  360419.0988          31491.41457  \n",
       "497    68888.77805      10611.606860  764531.3203          64147.28888  \n",
       "498    49811.99062      14013.034510  337826.6382          45442.15353  \n",
       "499    61370.67766       9391.341628  462946.4924          45107.22566  "
      ]
     },
     "execution_count": 4,
     "metadata": {},
     "output_type": "execute_result"
    }
   ],
   "source": [
    "# dataset lest 5 row show\n",
    "df.tail()"
   ]
  },
  {
   "cell_type": "code",
   "execution_count": 5,
   "id": "ac873c1c",
   "metadata": {},
   "outputs": [
    {
     "data": {
      "text/plain": [
       "(500, 9)"
      ]
     },
     "execution_count": 5,
     "metadata": {},
     "output_type": "execute_result"
    }
   ],
   "source": [
    "# dataset size\n",
    "df.shape"
   ]
  },
  {
   "cell_type": "code",
   "execution_count": 6,
   "id": "d2c68036",
   "metadata": {},
   "outputs": [
    {
     "name": "stdout",
     "output_type": "stream",
     "text": [
      "<class 'pandas.core.frame.DataFrame'>\n",
      "RangeIndex: 500 entries, 0 to 499\n",
      "Data columns (total 9 columns):\n",
      " #   Column               Non-Null Count  Dtype  \n",
      "---  ------               --------------  -----  \n",
      " 0   Customer Name        500 non-null    object \n",
      " 1   Customer e-mail      500 non-null    object \n",
      " 2   Country              500 non-null    object \n",
      " 3   Gender               500 non-null    int64  \n",
      " 4   Age                  500 non-null    int64  \n",
      " 5   Annual Salary        500 non-null    float64\n",
      " 6   Credit Card Debt     500 non-null    float64\n",
      " 7   Net Worth            500 non-null    float64\n",
      " 8   Car Purchase Amount  500 non-null    float64\n",
      "dtypes: float64(4), int64(2), object(3)\n",
      "memory usage: 35.3+ KB\n"
     ]
    }
   ],
   "source": [
    "# dataset all informaton\n",
    "df.info()"
   ]
  },
  {
   "cell_type": "code",
   "execution_count": 7,
   "id": "017650b8",
   "metadata": {},
   "outputs": [
    {
     "data": {
      "text/plain": [
       "Customer Name          0\n",
       "Customer e-mail        0\n",
       "Country                0\n",
       "Gender                 0\n",
       "Age                    0\n",
       "Annual Salary          0\n",
       "Credit Card Debt       0\n",
       "Net Worth              0\n",
       "Car Purchase Amount    0\n",
       "dtype: int64"
      ]
     },
     "execution_count": 7,
     "metadata": {},
     "output_type": "execute_result"
    }
   ],
   "source": [
    "# data null valu chaek\n",
    "df.isnull().sum()"
   ]
  },
  {
   "cell_type": "code",
   "execution_count": 8,
   "id": "34bb6a63",
   "metadata": {},
   "outputs": [
    {
     "data": {
      "text/plain": [
       "Index(['Customer Name', 'Customer e-mail', 'Country', 'Gender', 'Age',\n",
       "       'Annual Salary', 'Credit Card Debt', 'Net Worth',\n",
       "       'Car Purchase Amount'],\n",
       "      dtype='object')"
      ]
     },
     "execution_count": 8,
     "metadata": {},
     "output_type": "execute_result"
    }
   ],
   "source": [
    "#dataset all columns name\n",
    "df.columns"
   ]
  },
  {
   "cell_type": "code",
   "execution_count": 9,
   "id": "ae581d0b",
   "metadata": {},
   "outputs": [],
   "source": [
    "#'Customer Name', 'Customer e-mail' delete dataset\n",
    "df.drop(['Customer Name', 'Customer e-mail'],axis=1 ,inplace=True)"
   ]
  },
  {
   "cell_type": "code",
   "execution_count": 10,
   "id": "93494f26",
   "metadata": {},
   "outputs": [
    {
     "data": {
      "text/html": [
       "<div>\n",
       "<style scoped>\n",
       "    .dataframe tbody tr th:only-of-type {\n",
       "        vertical-align: middle;\n",
       "    }\n",
       "\n",
       "    .dataframe tbody tr th {\n",
       "        vertical-align: top;\n",
       "    }\n",
       "\n",
       "    .dataframe thead th {\n",
       "        text-align: right;\n",
       "    }\n",
       "</style>\n",
       "<table border=\"1\" class=\"dataframe\">\n",
       "  <thead>\n",
       "    <tr style=\"text-align: right;\">\n",
       "      <th></th>\n",
       "      <th>Country</th>\n",
       "      <th>Gender</th>\n",
       "      <th>Age</th>\n",
       "      <th>Annual Salary</th>\n",
       "      <th>Credit Card Debt</th>\n",
       "      <th>Net Worth</th>\n",
       "      <th>Car Purchase Amount</th>\n",
       "    </tr>\n",
       "  </thead>\n",
       "  <tbody>\n",
       "    <tr>\n",
       "      <th>0</th>\n",
       "      <td>USA</td>\n",
       "      <td>0</td>\n",
       "      <td>42</td>\n",
       "      <td>62812.09301</td>\n",
       "      <td>11609.380910</td>\n",
       "      <td>238961.2505</td>\n",
       "      <td>35321.45877</td>\n",
       "    </tr>\n",
       "    <tr>\n",
       "      <th>1</th>\n",
       "      <td>USA</td>\n",
       "      <td>0</td>\n",
       "      <td>41</td>\n",
       "      <td>66646.89292</td>\n",
       "      <td>9572.957136</td>\n",
       "      <td>530973.9078</td>\n",
       "      <td>45115.52566</td>\n",
       "    </tr>\n",
       "    <tr>\n",
       "      <th>2</th>\n",
       "      <td>USA</td>\n",
       "      <td>1</td>\n",
       "      <td>43</td>\n",
       "      <td>53798.55112</td>\n",
       "      <td>11160.355060</td>\n",
       "      <td>638467.1773</td>\n",
       "      <td>42925.70921</td>\n",
       "    </tr>\n",
       "    <tr>\n",
       "      <th>3</th>\n",
       "      <td>USA</td>\n",
       "      <td>1</td>\n",
       "      <td>58</td>\n",
       "      <td>79370.03798</td>\n",
       "      <td>14426.164850</td>\n",
       "      <td>548599.0524</td>\n",
       "      <td>67422.36313</td>\n",
       "    </tr>\n",
       "    <tr>\n",
       "      <th>4</th>\n",
       "      <td>USA</td>\n",
       "      <td>1</td>\n",
       "      <td>57</td>\n",
       "      <td>59729.15130</td>\n",
       "      <td>5358.712177</td>\n",
       "      <td>560304.0671</td>\n",
       "      <td>55915.46248</td>\n",
       "    </tr>\n",
       "  </tbody>\n",
       "</table>\n",
       "</div>"
      ],
      "text/plain": [
       "  Country  Gender  Age  Annual Salary  Credit Card Debt    Net Worth  \\\n",
       "0     USA       0   42    62812.09301      11609.380910  238961.2505   \n",
       "1     USA       0   41    66646.89292       9572.957136  530973.9078   \n",
       "2     USA       1   43    53798.55112      11160.355060  638467.1773   \n",
       "3     USA       1   58    79370.03798      14426.164850  548599.0524   \n",
       "4     USA       1   57    59729.15130       5358.712177  560304.0671   \n",
       "\n",
       "   Car Purchase Amount  \n",
       "0          35321.45877  \n",
       "1          45115.52566  \n",
       "2          42925.70921  \n",
       "3          67422.36313  \n",
       "4          55915.46248  "
      ]
     },
     "execution_count": 10,
     "metadata": {},
     "output_type": "execute_result"
    }
   ],
   "source": [
    "#new dataet 1st 5 row show\n",
    "df.head()"
   ]
  },
  {
   "cell_type": "code",
   "execution_count": 11,
   "id": "b6520793",
   "metadata": {},
   "outputs": [
    {
     "data": {
      "text/plain": [
       "USA    500\n",
       "Name: Country, dtype: int64"
      ]
     },
     "execution_count": 11,
     "metadata": {},
     "output_type": "execute_result"
    }
   ],
   "source": [
    "#Gender value_counts\n",
    "df.Country.value_counts()"
   ]
  },
  {
   "cell_type": "code",
   "execution_count": 12,
   "id": "8f3c78e5",
   "metadata": {},
   "outputs": [],
   "source": [
    "#Country delete dataset\n",
    "df.drop(['Country'],axis=1 ,inplace=True)"
   ]
  },
  {
   "cell_type": "code",
   "execution_count": 13,
   "id": "58aa2f74",
   "metadata": {},
   "outputs": [
    {
     "data": {
      "text/html": [
       "<div>\n",
       "<style scoped>\n",
       "    .dataframe tbody tr th:only-of-type {\n",
       "        vertical-align: middle;\n",
       "    }\n",
       "\n",
       "    .dataframe tbody tr th {\n",
       "        vertical-align: top;\n",
       "    }\n",
       "\n",
       "    .dataframe thead th {\n",
       "        text-align: right;\n",
       "    }\n",
       "</style>\n",
       "<table border=\"1\" class=\"dataframe\">\n",
       "  <thead>\n",
       "    <tr style=\"text-align: right;\">\n",
       "      <th></th>\n",
       "      <th>Gender</th>\n",
       "      <th>Age</th>\n",
       "      <th>Annual Salary</th>\n",
       "      <th>Credit Card Debt</th>\n",
       "      <th>Net Worth</th>\n",
       "      <th>Car Purchase Amount</th>\n",
       "    </tr>\n",
       "  </thead>\n",
       "  <tbody>\n",
       "    <tr>\n",
       "      <th>0</th>\n",
       "      <td>0</td>\n",
       "      <td>42</td>\n",
       "      <td>62812.09301</td>\n",
       "      <td>11609.380910</td>\n",
       "      <td>238961.2505</td>\n",
       "      <td>35321.45877</td>\n",
       "    </tr>\n",
       "    <tr>\n",
       "      <th>1</th>\n",
       "      <td>0</td>\n",
       "      <td>41</td>\n",
       "      <td>66646.89292</td>\n",
       "      <td>9572.957136</td>\n",
       "      <td>530973.9078</td>\n",
       "      <td>45115.52566</td>\n",
       "    </tr>\n",
       "    <tr>\n",
       "      <th>2</th>\n",
       "      <td>1</td>\n",
       "      <td>43</td>\n",
       "      <td>53798.55112</td>\n",
       "      <td>11160.355060</td>\n",
       "      <td>638467.1773</td>\n",
       "      <td>42925.70921</td>\n",
       "    </tr>\n",
       "    <tr>\n",
       "      <th>3</th>\n",
       "      <td>1</td>\n",
       "      <td>58</td>\n",
       "      <td>79370.03798</td>\n",
       "      <td>14426.164850</td>\n",
       "      <td>548599.0524</td>\n",
       "      <td>67422.36313</td>\n",
       "    </tr>\n",
       "    <tr>\n",
       "      <th>4</th>\n",
       "      <td>1</td>\n",
       "      <td>57</td>\n",
       "      <td>59729.15130</td>\n",
       "      <td>5358.712177</td>\n",
       "      <td>560304.0671</td>\n",
       "      <td>55915.46248</td>\n",
       "    </tr>\n",
       "  </tbody>\n",
       "</table>\n",
       "</div>"
      ],
      "text/plain": [
       "   Gender  Age  Annual Salary  Credit Card Debt    Net Worth  \\\n",
       "0       0   42    62812.09301      11609.380910  238961.2505   \n",
       "1       0   41    66646.89292       9572.957136  530973.9078   \n",
       "2       1   43    53798.55112      11160.355060  638467.1773   \n",
       "3       1   58    79370.03798      14426.164850  548599.0524   \n",
       "4       1   57    59729.15130       5358.712177  560304.0671   \n",
       "\n",
       "   Car Purchase Amount  \n",
       "0          35321.45877  \n",
       "1          45115.52566  \n",
       "2          42925.70921  \n",
       "3          67422.36313  \n",
       "4          55915.46248  "
      ]
     },
     "execution_count": 13,
     "metadata": {},
     "output_type": "execute_result"
    }
   ],
   "source": [
    "#new dataet 1st 5 row show\n",
    "df.head()"
   ]
  },
  {
   "cell_type": "code",
   "execution_count": 14,
   "id": "5331c753",
   "metadata": {},
   "outputs": [
    {
     "data": {
      "text/plain": [
       "1    253\n",
       "0    247\n",
       "Name: Gender, dtype: int64"
      ]
     },
     "execution_count": 14,
     "metadata": {},
     "output_type": "execute_result"
    }
   ],
   "source": [
    "#Gender value_counts\n",
    "df.Gender.value_counts()"
   ]
  },
  {
   "cell_type": "code",
   "execution_count": 15,
   "id": "111e3df3",
   "metadata": {},
   "outputs": [
    {
     "data": {
      "image/png": "[encoded data removed]",
      "text/plain": [
       "<Figure size 500x500 with 1 Axes>"
      ]
     },
     "metadata": {},
     "output_type": "display_data"
    }
   ],
   "source": [
    "plt.figure(figsize=(5,5))\n",
    "#Gender count bar chart\n",
    "sns.countplot(\"Gender\",data=df)\n",
    "plt.show()"
   ]
  },
  {
   "cell_type": "code",
   "execution_count": 16,
   "id": "5cdd9417",
   "metadata": {},
   "outputs": [
    {
     "data": {
      "text/plain": [
       "43    34\n",
       "51    29\n",
       "42    26\n",
       "47    25\n",
       "48    25\n",
       "40    24\n",
       "44    23\n",
       "45    23\n",
       "53    20\n",
       "46    19\n",
       "50    19\n",
       "41    19\n",
       "57    17\n",
       "55    16\n",
       "52    15\n",
       "49    14\n",
       "37    14\n",
       "39    14\n",
       "56    11\n",
       "35    10\n",
       "54    10\n",
       "38    10\n",
       "33    10\n",
       "32     9\n",
       "36     9\n",
       "58     7\n",
       "34     6\n",
       "59     6\n",
       "63     6\n",
       "62     5\n",
       "61     5\n",
       "60     5\n",
       "30     3\n",
       "29     2\n",
       "70     2\n",
       "20     1\n",
       "31     1\n",
       "27     1\n",
       "22     1\n",
       "65     1\n",
       "64     1\n",
       "28     1\n",
       "25     1\n",
       "Name: Age, dtype: int64"
      ]
     },
     "execution_count": 16,
     "metadata": {},
     "output_type": "execute_result"
    }
   ],
   "source": [
    "#Age value_counts\n",
    "df.Age.value_counts()"
   ]
  },
  {
   "cell_type": "code",
   "execution_count": null,
   "id": "eeb6b130",
   "metadata": {},
   "outputs": [],
   "source": [
    "plt.figure(figsize=(50,10))\n",
    "#Age count bar chart\n",
    "sns.countplot(\"Age\",data=df)\n",
    "plt.show()"
   ]
  },
  {
   "cell_type": "code",
   "execution_count": null,
   "id": "b500e319",
   "metadata": {},
   "outputs": [],
   "source": [
    "plt.figure(figsize=(15,5))\n",
    "#dataset bar chart\n",
    "plt.bar(df.columns,height=df.sum())\n",
    "# dataset bar chart name\n",
    "plt.title(\"Car Purchasing Data\",c = \"Green\")\n",
    "#x axis name\n",
    "plt.xlabel(\"Dataset\",c =\"green\")\n",
    "# y axis name\n",
    "plt.ylabel(\"Count\",c = \"green\")\n",
    "plt.show()"
   ]
  },
  {
   "cell_type": "code",
   "execution_count": null,
   "id": "b9e6b60c",
   "metadata": {},
   "outputs": [],
   "source": [
    "# dataset describing\n",
    "df.describe()"
   ]
  },
  {
   "cell_type": "code",
   "execution_count": null,
   "id": "539d1b62",
   "metadata": {},
   "outputs": [],
   "source": [
    "plt.figure(figsize=(15,10))\n",
    "sns.heatmap(df.corr(),annot=True)\n",
    "plt.show()"
   ]
  },
  {
   "cell_type": "code",
   "execution_count": null,
   "id": "208998db",
   "metadata": {},
   "outputs": [],
   "source": [
    "#feature\n",
    "x = df.drop(['Car Purchase Amount'],axis=1)"
   ]
  },
  {
   "cell_type": "code",
   "execution_count": null,
   "id": "5287afe1",
   "metadata": {},
   "outputs": [],
   "source": [
    "#class\n",
    "y = df[['Car Purchase Amount']]"
   ]
  },
  {
   "cell_type": "code",
   "execution_count": null,
   "id": "fd7f6977",
   "metadata": {},
   "outputs": [],
   "source": [
    "#feature 1st 5 row show\n",
    "x.head()"
   ]
  },
  {
   "cell_type": "code",
   "execution_count": null,
   "id": "52734c19",
   "metadata": {},
   "outputs": [],
   "source": [
    "plt.figure(figsize=(15,5))\n",
    "#dataset bar chart\n",
    "plt.bar(x.columns,height=x.sum())\n",
    "# dataset bar chart name\n",
    "plt.title(\"Car Purchasing Data\",c = \"Green\")\n",
    "#x axis name\n",
    "plt.xlabel(\"Feature\",c =\"green\")\n",
    "# y axis name\n",
    "plt.ylabel(\"Count\",c = \"green\")\n",
    "plt.show()"
   ]
  },
  {
   "cell_type": "code",
   "execution_count": null,
   "id": "50aeb8f2",
   "metadata": {},
   "outputs": [],
   "source": [
    "#class 1st 5 row show\n",
    "y.head()"
   ]
  },
  {
   "cell_type": "code",
   "execution_count": null,
   "id": "da6b9c60",
   "metadata": {},
   "outputs": [],
   "source": []
  },
  {
   "cell_type": "markdown",
   "id": "a92c7e76",
   "metadata": {},
   "source": [
    "# Fature Importances"
   ]
  },
  {
   "cell_type": "code",
   "execution_count": null,
   "id": "d1a98adf",
   "metadata": {},
   "outputs": [],
   "source": [
    "#import ExtraTreesRegressor\n",
    "from sklearn.ensemble import ExtraTreesRegressor"
   ]
  },
  {
   "cell_type": "code",
   "execution_count": null,
   "id": "d56c804c",
   "metadata": {},
   "outputs": [],
   "source": [
    "# creating ExtraTreesRegressor object\n",
    "ext = ExtraTreesRegressor()"
   ]
  },
  {
   "cell_type": "code",
   "execution_count": null,
   "id": "788bd5d8",
   "metadata": {},
   "outputs": [],
   "source": [
    "#training model\n",
    "ext.fit(x,y)"
   ]
  },
  {
   "cell_type": "code",
   "execution_count": null,
   "id": "2b7fbc03",
   "metadata": {},
   "outputs": [],
   "source": [
    "#feature_importances_\n",
    "ext.feature_importances_"
   ]
  },
  {
   "cell_type": "code",
   "execution_count": null,
   "id": "cda5e036",
   "metadata": {},
   "outputs": [],
   "source": [
    "#feature importances name\n",
    "top = pd.Series(ext.feature_importances_,index=x.columns)"
   ]
  },
  {
   "cell_type": "code",
   "execution_count": null,
   "id": "e504f439",
   "metadata": {},
   "outputs": [],
   "source": [
    "top"
   ]
  },
  {
   "cell_type": "code",
   "execution_count": null,
   "id": "94081d5a",
   "metadata": {},
   "outputs": [],
   "source": [
    "top.shape"
   ]
  },
  {
   "cell_type": "code",
   "execution_count": null,
   "id": "42a73f20",
   "metadata": {},
   "outputs": [],
   "source": [
    "# top feature bar chart\n",
    "top.nlargest(6).plot(kind= \"bar\")\n",
    "plt.show()"
   ]
  },
  {
   "cell_type": "code",
   "execution_count": null,
   "id": "9e64c7da",
   "metadata": {},
   "outputs": [],
   "source": [
    "# top feature bar chart\n",
    "top.nlargest(6).plot(kind= \"barh\")\n",
    "plt.show()"
   ]
  },
  {
   "cell_type": "code",
   "execution_count": null,
   "id": "477d8807",
   "metadata": {},
   "outputs": [],
   "source": [
    "# top feature bar chart\n",
    "top.nsmallest(6).plot(kind= \"bar\")\n",
    "plt.show()"
   ]
  },
  {
   "cell_type": "code",
   "execution_count": null,
   "id": "3b73fcc7",
   "metadata": {},
   "outputs": [],
   "source": [
    "# top feature bar chart\n",
    "top.nsmallest(6).plot(kind= \"barh\")\n",
    "plt.show()"
   ]
  },
  {
   "cell_type": "code",
   "execution_count": null,
   "id": "25f86d60",
   "metadata": {},
   "outputs": [],
   "source": [
    "# top feature bar chart\n",
    "top.nlargest(6).plot(kind= \"pie\")\n",
    "plt.show()"
   ]
  },
  {
   "cell_type": "code",
   "execution_count": null,
   "id": "01cd4cd9",
   "metadata": {},
   "outputs": [],
   "source": []
  },
  {
   "cell_type": "markdown",
   "id": "f729f563",
   "metadata": {},
   "source": [
    "# Feature Scaling"
   ]
  },
  {
   "cell_type": "code",
   "execution_count": null,
   "id": "0704e19f",
   "metadata": {},
   "outputs": [],
   "source": [
    "#import StandardScaler\n",
    "from sklearn.preprocessing import StandardScaler"
   ]
  },
  {
   "cell_type": "code",
   "execution_count": null,
   "id": "7239a5c9",
   "metadata": {},
   "outputs": [],
   "source": [
    "sts = StandardScaler()"
   ]
  },
  {
   "cell_type": "code",
   "execution_count": null,
   "id": "812a0a27",
   "metadata": {},
   "outputs": [],
   "source": [
    "# feature scaling in x columns\n",
    "for column in x:\n",
    "    if x[column].dtypes == \"float64\" or \"int64\":\n",
    "        x[column]=sts.fit_transform(x[[column]])"
   ]
  },
  {
   "cell_type": "code",
   "execution_count": null,
   "id": "742b326e",
   "metadata": {},
   "outputs": [],
   "source": [
    "# feature 1st 5 row show\n",
    "x.head()"
   ]
  },
  {
   "cell_type": "code",
   "execution_count": null,
   "id": "5f6d1539",
   "metadata": {},
   "outputs": [],
   "source": []
  },
  {
   "cell_type": "markdown",
   "id": "73b8c9e4",
   "metadata": {},
   "source": [
    "# Training & Testing Dataset"
   ]
  },
  {
   "cell_type": "code",
   "execution_count": null,
   "id": "82debaf6",
   "metadata": {},
   "outputs": [],
   "source": [
    "#import train_test_split\n",
    "from sklearn.model_selection import train_test_split"
   ]
  },
  {
   "cell_type": "code",
   "execution_count": null,
   "id": "d4bca792",
   "metadata": {},
   "outputs": [],
   "source": [
    "#70% data tarining & 30% data testing\n",
    "xtrain,xtest,ytrain,ytest=train_test_split(x,y,test_size=0.30,random_state=42)"
   ]
  },
  {
   "cell_type": "code",
   "execution_count": null,
   "id": "e0d4caab",
   "metadata": {},
   "outputs": [],
   "source": [
    "#training data 1st 5 row show\n",
    "xtrain.head()"
   ]
  },
  {
   "cell_type": "code",
   "execution_count": null,
   "id": "c0546f84",
   "metadata": {},
   "outputs": [],
   "source": [
    "#training data 1st 5 row show\n",
    "ytrain.head()"
   ]
  },
  {
   "cell_type": "code",
   "execution_count": null,
   "id": "6db7051f",
   "metadata": {},
   "outputs": [],
   "source": [
    "#training data size\n",
    "xtrain.shape"
   ]
  },
  {
   "cell_type": "code",
   "execution_count": null,
   "id": "4d9ffc3b",
   "metadata": {},
   "outputs": [],
   "source": [
    "#training data size\n",
    "ytrain.shape"
   ]
  },
  {
   "cell_type": "code",
   "execution_count": null,
   "id": "4610c892",
   "metadata": {},
   "outputs": [],
   "source": [
    "#testing data 1st 5 row show\n",
    "xtest.head()"
   ]
  },
  {
   "cell_type": "code",
   "execution_count": null,
   "id": "454705f9",
   "metadata": {},
   "outputs": [],
   "source": [
    "#testing data 1st 5 row show\n",
    "ytest.head()"
   ]
  },
  {
   "cell_type": "code",
   "execution_count": null,
   "id": "68336c27",
   "metadata": {},
   "outputs": [],
   "source": [
    "#testing data size\n",
    "xtest.shape"
   ]
  },
  {
   "cell_type": "code",
   "execution_count": null,
   "id": "85739032",
   "metadata": {},
   "outputs": [],
   "source": [
    "#testing data size\n",
    "ytest.shape"
   ]
  },
  {
   "cell_type": "code",
   "execution_count": null,
   "id": "fd7bfff0",
   "metadata": {},
   "outputs": [],
   "source": []
  },
  {
   "cell_type": "markdown",
   "id": "4ec7ed1c",
   "metadata": {},
   "source": [
    "# PCA"
   ]
  },
  {
   "cell_type": "code",
   "execution_count": null,
   "id": "b99bfaaf",
   "metadata": {},
   "outputs": [],
   "source": [
    "#import pca\n",
    "from sklearn.decomposition import PCA"
   ]
  },
  {
   "cell_type": "code",
   "execution_count": null,
   "id": "43b3402f",
   "metadata": {},
   "outputs": [],
   "source": [
    "#creating pca object & feature components 90%\n",
    "pca = PCA(n_components=0.90)"
   ]
  },
  {
   "cell_type": "code",
   "execution_count": null,
   "id": "cc01961f",
   "metadata": {},
   "outputs": [],
   "source": [
    "#training model & transform \n",
    "xtrain = pca.fit_transform(xtrain)"
   ]
  },
  {
   "cell_type": "code",
   "execution_count": null,
   "id": "d1d30582",
   "metadata": {},
   "outputs": [],
   "source": [
    "#testing  transform \n",
    "xtest = pca.transform(xtest)"
   ]
  },
  {
   "cell_type": "code",
   "execution_count": null,
   "id": "fd21d266",
   "metadata": {},
   "outputs": [],
   "source": [
    "pca.explained_variance_ratio_"
   ]
  },
  {
   "cell_type": "code",
   "execution_count": null,
   "id": "520b29d4",
   "metadata": {},
   "outputs": [],
   "source": [
    "sum(pca.explained_variance_ratio_)"
   ]
  },
  {
   "cell_type": "code",
   "execution_count": null,
   "id": "55b94098",
   "metadata": {},
   "outputs": [],
   "source": []
  },
  {
   "cell_type": "markdown",
   "id": "9c1f87f2",
   "metadata": {},
   "source": [
    "# LinearRegression"
   ]
  },
  {
   "cell_type": "code",
   "execution_count": null,
   "id": "f7ee5cb8",
   "metadata": {},
   "outputs": [],
   "source": [
    "# import LinearRegression\n",
    "from sklearn.linear_model import LinearRegression"
   ]
  },
  {
   "cell_type": "code",
   "execution_count": null,
   "id": "30a9e135",
   "metadata": {},
   "outputs": [],
   "source": [
    "#creating LinearRegression object\n",
    "lr = LinearRegression()"
   ]
  },
  {
   "cell_type": "code",
   "execution_count": null,
   "id": "27eed004",
   "metadata": {},
   "outputs": [],
   "source": [
    "# training model\n",
    "lr.fit(xtrain,ytrain)"
   ]
  },
  {
   "cell_type": "code",
   "execution_count": null,
   "id": "4cdc2e9a",
   "metadata": {},
   "outputs": [],
   "source": [
    "# all prediction\n",
    "lr.predict(xtest)"
   ]
  },
  {
   "cell_type": "markdown",
   "id": "b67c817a",
   "metadata": {},
   "source": [
    "# R^2 Score & MSE & MAE"
   ]
  },
  {
   "cell_type": "code",
   "execution_count": null,
   "id": "c26c9ece",
   "metadata": {},
   "outputs": [],
   "source": [
    "#import r2_score,mean_squared_error & mean_absolute_error\n",
    "from sklearn.metrics import r2_score,mean_squared_error,mean_absolute_error,plot_roc_curve"
   ]
  },
  {
   "cell_type": "code",
   "execution_count": null,
   "id": "be46388d",
   "metadata": {},
   "outputs": [],
   "source": [
    "#LinearRegression training score\n",
    "lr.score(xtrain,ytrain)"
   ]
  },
  {
   "cell_type": "code",
   "execution_count": null,
   "id": "b882b8f1",
   "metadata": {},
   "outputs": [],
   "source": [
    "#LinearRegression testing score\n",
    "lr.score(xtest,ytest)"
   ]
  },
  {
   "cell_type": "code",
   "execution_count": null,
   "id": "646acbdb",
   "metadata": {},
   "outputs": [],
   "source": [
    "#LinearRegression r^2 score\n",
    "r2_score(ytest,lr.predict(xtest))"
   ]
  },
  {
   "cell_type": "code",
   "execution_count": null,
   "id": "bb7557c1",
   "metadata": {},
   "outputs": [],
   "source": [
    "#LinearRegression mse score\n",
    "mean_squared_error(ytest,lr.predict(xtest))"
   ]
  },
  {
   "cell_type": "code",
   "execution_count": null,
   "id": "f59ac20d",
   "metadata": {},
   "outputs": [],
   "source": [
    "#LinearRegression mae score\n",
    "mean_absolute_error(ytest,lr.predict(xtest))"
   ]
  },
  {
   "cell_type": "code",
   "execution_count": null,
   "id": "8706ec02",
   "metadata": {},
   "outputs": [],
   "source": []
  },
  {
   "cell_type": "markdown",
   "id": "37591809",
   "metadata": {},
   "source": [
    "# KNN"
   ]
  },
  {
   "cell_type": "code",
   "execution_count": null,
   "id": "88c62125",
   "metadata": {},
   "outputs": [],
   "source": [
    "#import KNeighborsRegressor\n",
    "from sklearn.neighbors import KNeighborsRegressor"
   ]
  },
  {
   "cell_type": "code",
   "execution_count": null,
   "id": "6cd00ba1",
   "metadata": {},
   "outputs": [],
   "source": [
    "#creating KNeighborsRegressor object\n",
    "knn = KNeighborsRegressor()"
   ]
  },
  {
   "cell_type": "code",
   "execution_count": null,
   "id": "166a2621",
   "metadata": {},
   "outputs": [],
   "source": [
    "# training model\n",
    "knn.fit(xtrain,ytrain)"
   ]
  },
  {
   "cell_type": "code",
   "execution_count": null,
   "id": "0886caa3",
   "metadata": {},
   "outputs": [],
   "source": [
    "# all prediction\n",
    "knn.predict(xtest)"
   ]
  },
  {
   "cell_type": "markdown",
   "id": "6f882821",
   "metadata": {},
   "source": [
    "# R^2 Score & MSE & MAE"
   ]
  },
  {
   "cell_type": "code",
   "execution_count": null,
   "id": "ea88155b",
   "metadata": {},
   "outputs": [],
   "source": [
    "#KNeighborsRegressor training score\n",
    "knn.score(xtrain,ytrain)"
   ]
  },
  {
   "cell_type": "code",
   "execution_count": null,
   "id": "6d096a02",
   "metadata": {},
   "outputs": [],
   "source": [
    "#KNeighborsRegressor testing score\n",
    "knn.score(xtest,ytest)"
   ]
  },
  {
   "cell_type": "code",
   "execution_count": null,
   "id": "0e8b8026",
   "metadata": {},
   "outputs": [],
   "source": [
    "#KNeighborsRegressor r^2 score\n",
    "r2_score(ytest,knn.predict(xtest))"
   ]
  },
  {
   "cell_type": "code",
   "execution_count": null,
   "id": "c0093973",
   "metadata": {},
   "outputs": [],
   "source": [
    "#KNeighborsRegressor mse score\n",
    "mean_squared_error(ytest,knn.predict(xtest))"
   ]
  },
  {
   "cell_type": "code",
   "execution_count": null,
   "id": "a9ae521b",
   "metadata": {},
   "outputs": [],
   "source": [
    "#KNeighborsRegressor mae score\n",
    "mean_absolute_error(ytest,knn.predict(xtest))"
   ]
  },
  {
   "cell_type": "code",
   "execution_count": null,
   "id": "c2e92ace",
   "metadata": {},
   "outputs": [],
   "source": []
  },
  {
   "cell_type": "markdown",
   "id": "5ea2247e",
   "metadata": {},
   "source": [
    "# SVM"
   ]
  },
  {
   "cell_type": "code",
   "execution_count": null,
   "id": "a9090776",
   "metadata": {},
   "outputs": [],
   "source": [
    "#import svr\n",
    "from sklearn.svm import SVR"
   ]
  },
  {
   "cell_type": "code",
   "execution_count": null,
   "id": "de9c208e",
   "metadata": {},
   "outputs": [],
   "source": [
    "#creating svr object\n",
    "svr = SVR()"
   ]
  },
  {
   "cell_type": "code",
   "execution_count": null,
   "id": "7a4c436d",
   "metadata": {},
   "outputs": [],
   "source": [
    "#training model\n",
    "svr.fit(xtrain,ytrain)"
   ]
  },
  {
   "cell_type": "code",
   "execution_count": null,
   "id": "ef0a11f2",
   "metadata": {},
   "outputs": [],
   "source": [
    "# all prediction\n",
    "svr.predict(xtest)"
   ]
  },
  {
   "cell_type": "markdown",
   "id": "3c807bdb",
   "metadata": {},
   "source": [
    "# R^2 Score & MSE & MAE"
   ]
  },
  {
   "cell_type": "code",
   "execution_count": null,
   "id": "3bd93efa",
   "metadata": {},
   "outputs": [],
   "source": [
    "#svm training score\n",
    "svr.score(xtrain,ytrain)"
   ]
  },
  {
   "cell_type": "code",
   "execution_count": null,
   "id": "9a64355d",
   "metadata": {},
   "outputs": [],
   "source": [
    "#svm testing score\n",
    "svr.score(xtest,ytest)"
   ]
  },
  {
   "cell_type": "code",
   "execution_count": null,
   "id": "5be0af76",
   "metadata": {},
   "outputs": [],
   "source": [
    "#svm r^2 score\n",
    "r2_score(ytest,svr.predict(xtest))"
   ]
  },
  {
   "cell_type": "code",
   "execution_count": null,
   "id": "400bd97e",
   "metadata": {},
   "outputs": [],
   "source": [
    "#svm mse score\n",
    "mean_squared_error(ytest,svr.predict(xtest))"
   ]
  },
  {
   "cell_type": "code",
   "execution_count": null,
   "id": "b47a22f6",
   "metadata": {},
   "outputs": [],
   "source": [
    "#svm mae score\n",
    "mean_absolute_error(ytest,svr.predict(xtest))"
   ]
  },
  {
   "cell_type": "code",
   "execution_count": null,
   "id": "51f534cf",
   "metadata": {},
   "outputs": [],
   "source": []
  },
  {
   "cell_type": "markdown",
   "id": "59e3a56c",
   "metadata": {},
   "source": [
    "# DecisionTreeRegressor"
   ]
  },
  {
   "cell_type": "code",
   "execution_count": null,
   "id": "653a9526",
   "metadata": {},
   "outputs": [],
   "source": [
    "#import DecisionTreeRegressor\n",
    "from sklearn.tree import DecisionTreeRegressor"
   ]
  },
  {
   "cell_type": "code",
   "execution_count": null,
   "id": "c5d9c830",
   "metadata": {},
   "outputs": [],
   "source": [
    "#creating DecisionTreeRegressor object\n",
    "dtr = DecisionTreeRegressor()"
   ]
  },
  {
   "cell_type": "code",
   "execution_count": null,
   "id": "c3fe765a",
   "metadata": {},
   "outputs": [],
   "source": [
    "#training model\n",
    "dtr.fit(xtrain,ytrain)"
   ]
  },
  {
   "cell_type": "code",
   "execution_count": null,
   "id": "e8f46311",
   "metadata": {},
   "outputs": [],
   "source": [
    "# all prediction\n",
    "dtr.predict(xtest)"
   ]
  },
  {
   "cell_type": "markdown",
   "id": "8a67f736",
   "metadata": {},
   "source": [
    "# R^2 Score & MSE & MAE"
   ]
  },
  {
   "cell_type": "code",
   "execution_count": null,
   "id": "79a800c7",
   "metadata": {},
   "outputs": [],
   "source": [
    "#DecisionTreeRegressor training score\n",
    "dtr.score(xtrain,ytrain)"
   ]
  },
  {
   "cell_type": "code",
   "execution_count": null,
   "id": "ac5e2772",
   "metadata": {},
   "outputs": [],
   "source": [
    "#DecisionTreeRegressor testing score\n",
    "dtr.score(xtest,ytest)"
   ]
  },
  {
   "cell_type": "code",
   "execution_count": null,
   "id": "61d1c5da",
   "metadata": {},
   "outputs": [],
   "source": [
    "#DecisionTreeRegressor r^2 score\n",
    "r2_score(ytest,dtr.predict(xtest))"
   ]
  },
  {
   "cell_type": "code",
   "execution_count": null,
   "id": "be00b384",
   "metadata": {},
   "outputs": [],
   "source": [
    "#DecisionTreeRegressor mse score\n",
    "mean_squared_error(ytest,dtr.predict(xtest))"
   ]
  },
  {
   "cell_type": "code",
   "execution_count": null,
   "id": "4dfd45ea",
   "metadata": {},
   "outputs": [],
   "source": [
    "#DecisionTreeRegressor mae score\n",
    "mean_absolute_error(ytest,dtr.predict(xtest))"
   ]
  },
  {
   "cell_type": "code",
   "execution_count": null,
   "id": "fd8a554f",
   "metadata": {},
   "outputs": [],
   "source": []
  },
  {
   "cell_type": "markdown",
   "id": "95d9d818",
   "metadata": {},
   "source": [
    "# RandomForestRegressor"
   ]
  },
  {
   "cell_type": "code",
   "execution_count": null,
   "id": "2dc867e5",
   "metadata": {},
   "outputs": [],
   "source": [
    "#import RandomForestRegressor\n",
    "from sklearn.ensemble import RandomForestRegressor"
   ]
  },
  {
   "cell_type": "code",
   "execution_count": null,
   "id": "e7166619",
   "metadata": {},
   "outputs": [],
   "source": [
    "#creating RandomForestRegressor object\n",
    "rfr = RandomForestRegressor()"
   ]
  },
  {
   "cell_type": "code",
   "execution_count": null,
   "id": "2c39689c",
   "metadata": {},
   "outputs": [],
   "source": [
    "#training model\n",
    "rfr.fit(xtrain,ytrain)"
   ]
  },
  {
   "cell_type": "code",
   "execution_count": null,
   "id": "b807d73e",
   "metadata": {},
   "outputs": [],
   "source": [
    "# all prediction\n",
    "rfr.predict(xtest)"
   ]
  },
  {
   "cell_type": "markdown",
   "id": "a6652670",
   "metadata": {},
   "source": [
    "# R^2 Score & MSE & MAE"
   ]
  },
  {
   "cell_type": "code",
   "execution_count": null,
   "id": "47f5513d",
   "metadata": {},
   "outputs": [],
   "source": [
    "#RandomForestRegressor training score\n",
    "rfr.score(xtrain,ytrain)"
   ]
  },
  {
   "cell_type": "code",
   "execution_count": null,
   "id": "44423c41",
   "metadata": {},
   "outputs": [],
   "source": [
    "#RandomForestRegressor testing score\n",
    "rfr.score(xtest,ytest)"
   ]
  },
  {
   "cell_type": "code",
   "execution_count": null,
   "id": "fb00c2a2",
   "metadata": {},
   "outputs": [],
   "source": [
    "#RandomForestRegressor r^2 score\n",
    "r2_score(ytest,rfr.predict(xtest))"
   ]
  },
  {
   "cell_type": "code",
   "execution_count": null,
   "id": "155e24d3",
   "metadata": {},
   "outputs": [],
   "source": [
    "#RandomForestRegressor mse score\n",
    "mean_squared_error(ytest,rfr.predict(xtest))"
   ]
  },
  {
   "cell_type": "code",
   "execution_count": null,
   "id": "dacee4d7",
   "metadata": {},
   "outputs": [],
   "source": [
    "#RandomForestRegressor mae score\n",
    "mean_absolute_error(ytest,rfr.predict(xtest))"
   ]
  },
  {
   "cell_type": "code",
   "execution_count": null,
   "id": "1eaab4e8",
   "metadata": {},
   "outputs": [],
   "source": []
  },
  {
   "cell_type": "markdown",
   "id": "28c8d579",
   "metadata": {},
   "source": [
    "# AdaBoostRegressor"
   ]
  },
  {
   "cell_type": "code",
   "execution_count": null,
   "id": "63d09800",
   "metadata": {},
   "outputs": [],
   "source": [
    "#import AdaBoostRegressor\n",
    "from sklearn.ensemble import AdaBoostRegressor"
   ]
  },
  {
   "cell_type": "code",
   "execution_count": null,
   "id": "2377726e",
   "metadata": {},
   "outputs": [],
   "source": [
    "#creating AdaBoostRegressor object\n",
    "abr = AdaBoostRegressor()"
   ]
  },
  {
   "cell_type": "code",
   "execution_count": null,
   "id": "5e1984ea",
   "metadata": {},
   "outputs": [],
   "source": [
    "#training model\n",
    "abr.fit(xtrain,ytrain)"
   ]
  },
  {
   "cell_type": "code",
   "execution_count": null,
   "id": "b96d31f7",
   "metadata": {},
   "outputs": [],
   "source": [
    "# all prediction\n",
    "abr.predict(xtest)"
   ]
  },
  {
   "cell_type": "markdown",
   "id": "677ecad4",
   "metadata": {},
   "source": [
    "# R^2 Score & MSE & MAE"
   ]
  },
  {
   "cell_type": "code",
   "execution_count": null,
   "id": "86081a41",
   "metadata": {},
   "outputs": [],
   "source": [
    "#AdaBoostRegressor training score\n",
    "abr.score(xtrain,ytrain)"
   ]
  },
  {
   "cell_type": "code",
   "execution_count": null,
   "id": "cfe24c12",
   "metadata": {},
   "outputs": [],
   "source": [
    "#AdaBoostRegressor testing score\n",
    "abr.score(xtest,ytest)"
   ]
  },
  {
   "cell_type": "code",
   "execution_count": null,
   "id": "17613cf2",
   "metadata": {},
   "outputs": [],
   "source": [
    "#AdaBoostRegressor r^2 score\n",
    "r2_score(ytest,abr.predict(xtest))"
   ]
  },
  {
   "cell_type": "code",
   "execution_count": null,
   "id": "bbe22a6f",
   "metadata": {},
   "outputs": [],
   "source": [
    "#AdaBoostRegressor mse score\n",
    "mean_squared_error(ytest,abr.predict(xtest))"
   ]
  },
  {
   "cell_type": "code",
   "execution_count": null,
   "id": "421b48ae",
   "metadata": {},
   "outputs": [],
   "source": [
    "#AdaBoostRegressor mae score\n",
    "mean_absolute_error(ytest,abr.predict(xtest))"
   ]
  },
  {
   "cell_type": "code",
   "execution_count": null,
   "id": "ed18f434",
   "metadata": {},
   "outputs": [],
   "source": []
  },
  {
   "cell_type": "markdown",
   "id": "dfa4695b",
   "metadata": {},
   "source": [
    "# GradientBoostingRegressor"
   ]
  },
  {
   "cell_type": "code",
   "execution_count": null,
   "id": "07d7686a",
   "metadata": {},
   "outputs": [],
   "source": [
    "#import GradientBoostingRegressor\n",
    "from sklearn.ensemble import GradientBoostingRegressor"
   ]
  },
  {
   "cell_type": "code",
   "execution_count": null,
   "id": "1348dcf3",
   "metadata": {},
   "outputs": [],
   "source": [
    "#creating GradientBoostingRegressor object\n",
    "gbr = GradientBoostingRegressor()"
   ]
  },
  {
   "cell_type": "code",
   "execution_count": null,
   "id": "b2d50a91",
   "metadata": {},
   "outputs": [],
   "source": [
    "#training model\n",
    "gbr.fit(xtrain,ytrain)"
   ]
  },
  {
   "cell_type": "code",
   "execution_count": null,
   "id": "29e5a455",
   "metadata": {},
   "outputs": [],
   "source": [
    "# all prediction\n",
    "gbr.predict(xtest)"
   ]
  },
  {
   "cell_type": "markdown",
   "id": "c7f7a5b6",
   "metadata": {},
   "source": [
    "# R^2 Score & MSE & MAE"
   ]
  },
  {
   "cell_type": "code",
   "execution_count": null,
   "id": "2f56656f",
   "metadata": {},
   "outputs": [],
   "source": [
    "#GradientBoostingRegressor training score\n",
    "gbr.score(xtrain,ytrain)"
   ]
  },
  {
   "cell_type": "code",
   "execution_count": null,
   "id": "c763a3c3",
   "metadata": {},
   "outputs": [],
   "source": [
    "#GradientBoostingRegressor testing score\n",
    "gbr.score(xtest,ytest)"
   ]
  },
  {
   "cell_type": "code",
   "execution_count": null,
   "id": "6ace5c6e",
   "metadata": {},
   "outputs": [],
   "source": [
    "#GradientBoostingRegressor r^2 score\n",
    "r2_score(ytest,gbr.predict(xtest))"
   ]
  },
  {
   "cell_type": "code",
   "execution_count": null,
   "id": "da060e52",
   "metadata": {},
   "outputs": [],
   "source": [
    "#GradientBoostingRegressor mse score\n",
    "mean_squared_error(ytest,gbr.predict(xtest))"
   ]
  },
  {
   "cell_type": "code",
   "execution_count": null,
   "id": "69eb1fcb",
   "metadata": {},
   "outputs": [],
   "source": [
    "#GradientBoostingRegressor mae score\n",
    "mean_absolute_error(ytest,gbr.predict(xtest))"
   ]
  },
  {
   "cell_type": "code",
   "execution_count": null,
   "id": "8059d578",
   "metadata": {},
   "outputs": [],
   "source": []
  },
  {
   "cell_type": "markdown",
   "id": "0f65703d",
   "metadata": {},
   "source": [
    "# Best Machine Learning Model Identification"
   ]
  },
  {
   "cell_type": "code",
   "execution_count": null,
   "id": "b7737b03",
   "metadata": {},
   "outputs": [],
   "source": [
    "# all r^2 score dataframe\n",
    "final_data = pd.DataFrame({\"Model\":[\"LR\",\"KNN\",\"SVM\",\"DT\",\"RF\",\"AB\",\"GB\"],\"R2 Score\":[r2_score(ytest,lr.predict(xtest)),\n",
    "                                                                                       r2_score(ytest,knn.predict(xtest)),\n",
    "                                                                                       r2_score(ytest,svr.predict(xtest)),\n",
    "                                                                                       r2_score(ytest,dtr.predict(xtest)),\n",
    "                                                                                       r2_score(ytest,rfr.predict(xtest)),\n",
    "                                                                                       r2_score(ytest,abr.predict(xtest)),\n",
    "                                                                                       r2_score(ytest,gbr.predict(xtest))]})"
   ]
  },
  {
   "cell_type": "code",
   "execution_count": null,
   "id": "b329791d",
   "metadata": {},
   "outputs": [],
   "source": [
    "# all r^2 score\n",
    "final_data"
   ]
  },
  {
   "cell_type": "code",
   "execution_count": null,
   "id": "fb03937c",
   "metadata": {},
   "outputs": [],
   "source": [
    "#r^2 score bar chart\n",
    "sns.barplot(final_data[\"Model\"],final_data[\"R2 Score\"])\n",
    "plt.show()"
   ]
  },
  {
   "cell_type": "code",
   "execution_count": null,
   "id": "feac5690",
   "metadata": {},
   "outputs": [],
   "source": []
  },
  {
   "cell_type": "markdown",
   "id": "979e29ca",
   "metadata": {},
   "source": [
    "# Download ML Model"
   ]
  },
  {
   "cell_type": "code",
   "execution_count": null,
   "id": "7528db1e",
   "metadata": {},
   "outputs": [],
   "source": [
    "#import pickle\n",
    "import  pickle as pk"
   ]
  },
  {
   "cell_type": "code",
   "execution_count": null,
   "id": "2c62e578",
   "metadata": {},
   "outputs": [],
   "source": [
    "#download ml model pickle file \n",
    "pk.dump(lr,open(\"Car_Purchasing_Machine_Learning_Model\",\"wb\"))"
   ]
  },
  {
   "cell_type": "code",
   "execution_count": null,
   "id": "9da2766d",
   "metadata": {},
   "outputs": [],
   "source": []
  }
 ],
 "metadata": {
  "kernelspec": {
   "display_name": "Python 3 (ipykernel)",
   "language": "python",
   "name": "python3"
  },
  "language_info": {
   "codemirror_mode": {
    "name": "ipython",
    "version": 3
   },
   "file_extension": ".py",
   "mimetype": "text/x-python",
   "name": "python",
   "nbconvert_exporter": "python",
   "pygments_lexer": "ipython3",
   "version": "3.9.13"
  }
 },
 "nbformat": 4,
 "nbformat_minor": 5
}
