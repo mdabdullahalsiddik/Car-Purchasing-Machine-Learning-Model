{
 "cells": [
  {
   "cell_type": "code",
   "execution_count": 1,
   "id": "2082cf41",
   "metadata": {},
   "outputs": [],
   "source": [
    "#import laibary\n",
    "#unnassccary output not show\n",
    "import warnings as wr\n",
    "wr.filterwarnings(\"ignore\")\n",
    "import pandas as pd\n",
    "import matplotlib.pyplot as plt\n",
    "import seaborn as sns\n",
    "import numpy as np"
   ]
  },
  {
   "cell_type": "code",
   "execution_count": 2,
   "id": "55ceeb78",
   "metadata": {},
   "outputs": [],
   "source": [
    "# import dataset\n",
    "df = pd.read_csv(\"Car_Purchasing_Data.csv\")"
   ]
  },
  {
   "cell_type": "code",
   "execution_count": 3,
   "id": "ffb3d68c",
   "metadata": {},
   "outputs": [
    {
     "data": {
      "text/html": [
       "<div>\n",
       "<style scoped>\n",
       "    .dataframe tbody tr th:only-of-type {\n",
       "        vertical-align: middle;\n",
       "    }\n",
       "\n",
       "    .dataframe tbody tr th {\n",
       "        vertical-align: top;\n",
       "    }\n",
       "\n",
       "    .dataframe thead th {\n",
       "        text-align: right;\n",
       "    }\n",
       "</style>\n",
       "<table border=\"1\" class=\"dataframe\">\n",
       "  <thead>\n",
       "    <tr style=\"text-align: right;\">\n",
       "      <th></th>\n",
       "      <th>Customer Name</th>\n",
       "      <th>Customer e-mail</th>\n",
       "      <th>Country</th>\n",
       "      <th>Gender</th>\n",
       "      <th>Age</th>\n",
       "      <th>Annual Salary</th>\n",
       "      <th>Credit Card Debt</th>\n",
       "      <th>Net Worth</th>\n",
       "      <th>Car Purchase Amount</th>\n",
       "    </tr>\n",
       "  </thead>\n",
       "  <tbody>\n",
       "    <tr>\n",
       "      <th>0</th>\n",
       "      <td>Martina Avila</td>\n",
       "      <td>cubilia.Curae.Phasellus@quisaccumsanconvallis.edu</td>\n",
       "      <td>USA</td>\n",
       "      <td>0</td>\n",
       "      <td>42</td>\n",
       "      <td>62812.09301</td>\n",
       "      <td>11609.380910</td>\n",
       "      <td>238961.2505</td>\n",
       "      <td>35321.45877</td>\n",
       "    </tr>\n",
       "    <tr>\n",
       "      <th>1</th>\n",
       "      <td>Harlan Barnes</td>\n",
       "      <td>eu.dolor@diam.co.uk</td>\n",
       "      <td>USA</td>\n",
       "      <td>0</td>\n",
       "      <td>41</td>\n",
       "      <td>66646.89292</td>\n",
       "      <td>9572.957136</td>\n",
       "      <td>530973.9078</td>\n",
       "      <td>45115.52566</td>\n",
       "    </tr>\n",
       "    <tr>\n",
       "      <th>2</th>\n",
       "      <td>Naomi Rodriquez</td>\n",
       "      <td>vulputate.mauris.sagittis@ametconsectetueradip...</td>\n",
       "      <td>USA</td>\n",
       "      <td>1</td>\n",
       "      <td>43</td>\n",
       "      <td>53798.55112</td>\n",
       "      <td>11160.355060</td>\n",
       "      <td>638467.1773</td>\n",
       "      <td>42925.70921</td>\n",
       "    </tr>\n",
       "    <tr>\n",
       "      <th>3</th>\n",
       "      <td>Jade Cunningham</td>\n",
       "      <td>malesuada@dignissim.com</td>\n",
       "      <td>USA</td>\n",
       "      <td>1</td>\n",
       "      <td>58</td>\n",
       "      <td>79370.03798</td>\n",
       "      <td>14426.164850</td>\n",
       "      <td>548599.0524</td>\n",
       "      <td>67422.36313</td>\n",
       "    </tr>\n",
       "    <tr>\n",
       "      <th>4</th>\n",
       "      <td>Cedric Leach</td>\n",
       "      <td>felis.ullamcorper.viverra@egetmollislectus.net</td>\n",
       "      <td>USA</td>\n",
       "      <td>1</td>\n",
       "      <td>57</td>\n",
       "      <td>59729.15130</td>\n",
       "      <td>5358.712177</td>\n",
       "      <td>560304.0671</td>\n",
       "      <td>55915.46248</td>\n",
       "    </tr>\n",
       "  </tbody>\n",
       "</table>\n",
       "</div>"
      ],
      "text/plain": [
       "     Customer Name                                    Customer e-mail Country  \\\n",
       "0    Martina Avila  cubilia.Curae.Phasellus@quisaccumsanconvallis.edu     USA   \n",
       "1    Harlan Barnes                                eu.dolor@diam.co.uk     USA   \n",
       "2  Naomi Rodriquez  vulputate.mauris.sagittis@ametconsectetueradip...     USA   \n",
       "3  Jade Cunningham                            malesuada@dignissim.com     USA   \n",
       "4     Cedric Leach     felis.ullamcorper.viverra@egetmollislectus.net     USA   \n",
       "\n",
       "   Gender  Age  Annual Salary  Credit Card Debt    Net Worth  \\\n",
       "0       0   42    62812.09301      11609.380910  238961.2505   \n",
       "1       0   41    66646.89292       9572.957136  530973.9078   \n",
       "2       1   43    53798.55112      11160.355060  638467.1773   \n",
       "3       1   58    79370.03798      14426.164850  548599.0524   \n",
       "4       1   57    59729.15130       5358.712177  560304.0671   \n",
       "\n",
       "   Car Purchase Amount  \n",
       "0          35321.45877  \n",
       "1          45115.52566  \n",
       "2          42925.70921  \n",
       "3          67422.36313  \n",
       "4          55915.46248  "
      ]
     },
     "execution_count": 3,
     "metadata": {},
     "output_type": "execute_result"
    }
   ],
   "source": [
    "# dataset 1st 5 row show \n",
    "df.head()"
   ]
  },
  {
   "cell_type": "code",
   "execution_count": 4,
   "id": "a5815261",
   "metadata": {},
   "outputs": [
    {
     "data": {
      "text/html": [
       "<div>\n",
       "<style scoped>\n",
       "    .dataframe tbody tr th:only-of-type {\n",
       "        vertical-align: middle;\n",
       "    }\n",
       "\n",
       "    .dataframe tbody tr th {\n",
       "        vertical-align: top;\n",
       "    }\n",
       "\n",
       "    .dataframe thead th {\n",
       "        text-align: right;\n",
       "    }\n",
       "</style>\n",
       "<table border=\"1\" class=\"dataframe\">\n",
       "  <thead>\n",
       "    <tr style=\"text-align: right;\">\n",
       "      <th></th>\n",
       "      <th>Customer Name</th>\n",
       "      <th>Customer e-mail</th>\n",
       "      <th>Country</th>\n",
       "      <th>Gender</th>\n",
       "      <th>Age</th>\n",
       "      <th>Annual Salary</th>\n",
       "      <th>Credit Card Debt</th>\n",
       "      <th>Net Worth</th>\n",
       "      <th>Car Purchase Amount</th>\n",
       "    </tr>\n",
       "  </thead>\n",
       "  <tbody>\n",
       "    <tr>\n",
       "      <th>495</th>\n",
       "      <td>Walter</td>\n",
       "      <td>ligula@Cumsociis.ca</td>\n",
       "      <td>USA</td>\n",
       "      <td>0</td>\n",
       "      <td>41</td>\n",
       "      <td>71942.40291</td>\n",
       "      <td>6995.902524</td>\n",
       "      <td>541670.1016</td>\n",
       "      <td>48901.44342</td>\n",
       "    </tr>\n",
       "    <tr>\n",
       "      <th>496</th>\n",
       "      <td>Vanna</td>\n",
       "      <td>Cum.sociis.natoque@Sedmolestie.edu</td>\n",
       "      <td>USA</td>\n",
       "      <td>1</td>\n",
       "      <td>38</td>\n",
       "      <td>56039.49793</td>\n",
       "      <td>12301.456790</td>\n",
       "      <td>360419.0988</td>\n",
       "      <td>31491.41457</td>\n",
       "    </tr>\n",
       "    <tr>\n",
       "      <th>497</th>\n",
       "      <td>Pearl</td>\n",
       "      <td>penatibus.et@massanonante.com</td>\n",
       "      <td>USA</td>\n",
       "      <td>1</td>\n",
       "      <td>54</td>\n",
       "      <td>68888.77805</td>\n",
       "      <td>10611.606860</td>\n",
       "      <td>764531.3203</td>\n",
       "      <td>64147.28888</td>\n",
       "    </tr>\n",
       "    <tr>\n",
       "      <th>498</th>\n",
       "      <td>Nell</td>\n",
       "      <td>Quisque.varius@arcuVivamussit.net</td>\n",
       "      <td>USA</td>\n",
       "      <td>1</td>\n",
       "      <td>59</td>\n",
       "      <td>49811.99062</td>\n",
       "      <td>14013.034510</td>\n",
       "      <td>337826.6382</td>\n",
       "      <td>45442.15353</td>\n",
       "    </tr>\n",
       "    <tr>\n",
       "      <th>499</th>\n",
       "      <td>Marla</td>\n",
       "      <td>Camaron.marla@hotmail.com</td>\n",
       "      <td>USA</td>\n",
       "      <td>1</td>\n",
       "      <td>47</td>\n",
       "      <td>61370.67766</td>\n",
       "      <td>9391.341628</td>\n",
       "      <td>462946.4924</td>\n",
       "      <td>45107.22566</td>\n",
       "    </tr>\n",
       "  </tbody>\n",
       "</table>\n",
       "</div>"
      ],
      "text/plain": [
       "    Customer Name                     Customer e-mail Country  Gender  Age  \\\n",
       "495        Walter                 ligula@Cumsociis.ca     USA       0   41   \n",
       "496         Vanna  Cum.sociis.natoque@Sedmolestie.edu     USA       1   38   \n",
       "497         Pearl       penatibus.et@massanonante.com     USA       1   54   \n",
       "498          Nell   Quisque.varius@arcuVivamussit.net     USA       1   59   \n",
       "499         Marla           Camaron.marla@hotmail.com     USA       1   47   \n",
       "\n",
       "     Annual Salary  Credit Card Debt    Net Worth  Car Purchase Amount  \n",
       "495    71942.40291       6995.902524  541670.1016          48901.44342  \n",
       "496    56039.49793      12301.456790  360419.0988          31491.41457  \n",
       "497    68888.77805      10611.606860  764531.3203          64147.28888  \n",
       "498    49811.99062      14013.034510  337826.6382          45442.15353  \n",
       "499    61370.67766       9391.341628  462946.4924          45107.22566  "
      ]
     },
     "execution_count": 4,
     "metadata": {},
     "output_type": "execute_result"
    }
   ],
   "source": [
    "# dataset lest 5 row show\n",
    "df.tail()"
   ]
  },
  {
   "cell_type": "code",
   "execution_count": 5,
   "id": "ac873c1c",
   "metadata": {},
   "outputs": [
    {
     "data": {
      "text/plain": [
       "(500, 9)"
      ]
     },
     "execution_count": 5,
     "metadata": {},
     "output_type": "execute_result"
    }
   ],
   "source": [
    "# dataset size\n",
    "df.shape"
   ]
  },
  {
   "cell_type": "code",
   "execution_count": 6,
   "id": "d2c68036",
   "metadata": {},
   "outputs": [
    {
     "name": "stdout",
     "output_type": "stream",
     "text": [
      "<class 'pandas.core.frame.DataFrame'>\n",
      "RangeIndex: 500 entries, 0 to 499\n",
      "Data columns (total 9 columns):\n",
      " #   Column               Non-Null Count  Dtype  \n",
      "---  ------               --------------  -----  \n",
      " 0   Customer Name        500 non-null    object \n",
      " 1   Customer e-mail      500 non-null    object \n",
      " 2   Country              500 non-null    object \n",
      " 3   Gender               500 non-null    int64  \n",
      " 4   Age                  500 non-null    int64  \n",
      " 5   Annual Salary        500 non-null    float64\n",
      " 6   Credit Card Debt     500 non-null    float64\n",
      " 7   Net Worth            500 non-null    float64\n",
      " 8   Car Purchase Amount  500 non-null    float64\n",
      "dtypes: float64(4), int64(2), object(3)\n",
      "memory usage: 35.3+ KB\n"
     ]
    }
   ],
   "source": [
    "# dataset all informaton\n",
    "df.info()"
   ]
  },
  {
   "cell_type": "code",
   "execution_count": 7,
   "id": "017650b8",
   "metadata": {},
   "outputs": [
    {
     "data": {
      "text/plain": [
       "Customer Name          0\n",
       "Customer e-mail        0\n",
       "Country                0\n",
       "Gender                 0\n",
       "Age                    0\n",
       "Annual Salary          0\n",
       "Credit Card Debt       0\n",
       "Net Worth              0\n",
       "Car Purchase Amount    0\n",
       "dtype: int64"
      ]
     },
     "execution_count": 7,
     "metadata": {},
     "output_type": "execute_result"
    }
   ],
   "source": [
    "# data null valu chaek\n",
    "df.isnull().sum()"
   ]
  },
  {
   "cell_type": "code",
   "execution_count": 8,
   "id": "34bb6a63",
   "metadata": {},
   "outputs": [
    {
     "data": {
      "text/plain": [
       "Index(['Customer Name', 'Customer e-mail', 'Country', 'Gender', 'Age',\n",
       "       'Annual Salary', 'Credit Card Debt', 'Net Worth',\n",
       "       'Car Purchase Amount'],\n",
       "      dtype='object')"
      ]
     },
     "execution_count": 8,
     "metadata": {},
     "output_type": "execute_result"
    }
   ],
   "source": [
    "#dataset all columns name\n",
    "df.columns"
   ]
  },
  {
   "cell_type": "code",
   "execution_count": 9,
   "id": "ae581d0b",
   "metadata": {},
   "outputs": [],
   "source": [
    "#'Customer Name', 'Customer e-mail' delete dataset\n",
    "df.drop(['Customer Name', 'Customer e-mail','Country'],axis=1 ,inplace=True)"
   ]
  },
  {
   "cell_type": "code",
   "execution_count": 10,
   "id": "93494f26",
   "metadata": {},
   "outputs": [
    {
     "data": {
      "text/html": [
       "<div>\n",
       "<style scoped>\n",
       "    .dataframe tbody tr th:only-of-type {\n",
       "        vertical-align: middle;\n",
       "    }\n",
       "\n",
       "    .dataframe tbody tr th {\n",
       "        vertical-align: top;\n",
       "    }\n",
       "\n",
       "    .dataframe thead th {\n",
       "        text-align: right;\n",
       "    }\n",
       "</style>\n",
       "<table border=\"1\" class=\"dataframe\">\n",
       "  <thead>\n",
       "    <tr style=\"text-align: right;\">\n",
       "      <th></th>\n",
       "      <th>Gender</th>\n",
       "      <th>Age</th>\n",
       "      <th>Annual Salary</th>\n",
       "      <th>Credit Card Debt</th>\n",
       "      <th>Net Worth</th>\n",
       "      <th>Car Purchase Amount</th>\n",
       "    </tr>\n",
       "  </thead>\n",
       "  <tbody>\n",
       "    <tr>\n",
       "      <th>0</th>\n",
       "      <td>0</td>\n",
       "      <td>42</td>\n",
       "      <td>62812.09301</td>\n",
       "      <td>11609.380910</td>\n",
       "      <td>238961.2505</td>\n",
       "      <td>35321.45877</td>\n",
       "    </tr>\n",
       "    <tr>\n",
       "      <th>1</th>\n",
       "      <td>0</td>\n",
       "      <td>41</td>\n",
       "      <td>66646.89292</td>\n",
       "      <td>9572.957136</td>\n",
       "      <td>530973.9078</td>\n",
       "      <td>45115.52566</td>\n",
       "    </tr>\n",
       "    <tr>\n",
       "      <th>2</th>\n",
       "      <td>1</td>\n",
       "      <td>43</td>\n",
       "      <td>53798.55112</td>\n",
       "      <td>11160.355060</td>\n",
       "      <td>638467.1773</td>\n",
       "      <td>42925.70921</td>\n",
       "    </tr>\n",
       "    <tr>\n",
       "      <th>3</th>\n",
       "      <td>1</td>\n",
       "      <td>58</td>\n",
       "      <td>79370.03798</td>\n",
       "      <td>14426.164850</td>\n",
       "      <td>548599.0524</td>\n",
       "      <td>67422.36313</td>\n",
       "    </tr>\n",
       "    <tr>\n",
       "      <th>4</th>\n",
       "      <td>1</td>\n",
       "      <td>57</td>\n",
       "      <td>59729.15130</td>\n",
       "      <td>5358.712177</td>\n",
       "      <td>560304.0671</td>\n",
       "      <td>55915.46248</td>\n",
       "    </tr>\n",
       "  </tbody>\n",
       "</table>\n",
       "</div>"
      ],
      "text/plain": [
       "   Gender  Age  Annual Salary  Credit Card Debt    Net Worth  \\\n",
       "0       0   42    62812.09301      11609.380910  238961.2505   \n",
       "1       0   41    66646.89292       9572.957136  530973.9078   \n",
       "2       1   43    53798.55112      11160.355060  638467.1773   \n",
       "3       1   58    79370.03798      14426.164850  548599.0524   \n",
       "4       1   57    59729.15130       5358.712177  560304.0671   \n",
       "\n",
       "   Car Purchase Amount  \n",
       "0          35321.45877  \n",
       "1          45115.52566  \n",
       "2          42925.70921  \n",
       "3          67422.36313  \n",
       "4          55915.46248  "
      ]
     },
     "execution_count": 10,
     "metadata": {},
     "output_type": "execute_result"
    }
   ],
   "source": [
    "#new dataet 1st 5 row show\n",
    "df.head()"
   ]
  },
  {
   "cell_type": "code",
   "execution_count": null,
   "id": "20f7b1b3",
   "metadata": {},
   "outputs": [],
   "source": []
  },
  {
   "cell_type": "code",
   "execution_count": 11,
   "id": "4b4fd745",
   "metadata": {},
   "outputs": [
    {
     "data": {
      "text/html": [
       "<div>\n",
       "<style scoped>\n",
       "    .dataframe tbody tr th:only-of-type {\n",
       "        vertical-align: middle;\n",
       "    }\n",
       "\n",
       "    .dataframe tbody tr th {\n",
       "        vertical-align: top;\n",
       "    }\n",
       "\n",
       "    .dataframe thead th {\n",
       "        text-align: right;\n",
       "    }\n",
       "</style>\n",
       "<table border=\"1\" class=\"dataframe\">\n",
       "  <thead>\n",
       "    <tr style=\"text-align: right;\">\n",
       "      <th></th>\n",
       "      <th>Gender</th>\n",
       "      <th>Age</th>\n",
       "      <th>Annual Salary</th>\n",
       "      <th>Credit Card Debt</th>\n",
       "      <th>Net Worth</th>\n",
       "      <th>Car Purchase Amount</th>\n",
       "    </tr>\n",
       "  </thead>\n",
       "  <tbody>\n",
       "    <tr>\n",
       "      <th>0</th>\n",
       "      <td>0</td>\n",
       "      <td>42</td>\n",
       "      <td>62812.09301</td>\n",
       "      <td>11609.380910</td>\n",
       "      <td>238961.2505</td>\n",
       "      <td>35321.45877</td>\n",
       "    </tr>\n",
       "    <tr>\n",
       "      <th>1</th>\n",
       "      <td>0</td>\n",
       "      <td>41</td>\n",
       "      <td>66646.89292</td>\n",
       "      <td>9572.957136</td>\n",
       "      <td>530973.9078</td>\n",
       "      <td>45115.52566</td>\n",
       "    </tr>\n",
       "    <tr>\n",
       "      <th>2</th>\n",
       "      <td>1</td>\n",
       "      <td>43</td>\n",
       "      <td>53798.55112</td>\n",
       "      <td>11160.355060</td>\n",
       "      <td>638467.1773</td>\n",
       "      <td>42925.70921</td>\n",
       "    </tr>\n",
       "    <tr>\n",
       "      <th>3</th>\n",
       "      <td>1</td>\n",
       "      <td>58</td>\n",
       "      <td>79370.03798</td>\n",
       "      <td>14426.164850</td>\n",
       "      <td>548599.0524</td>\n",
       "      <td>67422.36313</td>\n",
       "    </tr>\n",
       "    <tr>\n",
       "      <th>4</th>\n",
       "      <td>1</td>\n",
       "      <td>57</td>\n",
       "      <td>59729.15130</td>\n",
       "      <td>5358.712177</td>\n",
       "      <td>560304.0671</td>\n",
       "      <td>55915.46248</td>\n",
       "    </tr>\n",
       "  </tbody>\n",
       "</table>\n",
       "</div>"
      ],
      "text/plain": [
       "   Gender  Age  Annual Salary  Credit Card Debt    Net Worth  \\\n",
       "0       0   42    62812.09301      11609.380910  238961.2505   \n",
       "1       0   41    66646.89292       9572.957136  530973.9078   \n",
       "2       1   43    53798.55112      11160.355060  638467.1773   \n",
       "3       1   58    79370.03798      14426.164850  548599.0524   \n",
       "4       1   57    59729.15130       5358.712177  560304.0671   \n",
       "\n",
       "   Car Purchase Amount  \n",
       "0          35321.45877  \n",
       "1          45115.52566  \n",
       "2          42925.70921  \n",
       "3          67422.36313  \n",
       "4          55915.46248  "
      ]
     },
     "execution_count": 11,
     "metadata": {},
     "output_type": "execute_result"
    }
   ],
   "source": [
    "# dataset 1st 5 row show\n",
    "df.head()"
   ]
  },
  {
   "cell_type": "code",
   "execution_count": 12,
   "id": "b500e319",
   "metadata": {},
   "outputs": [
    {
     "data": {
      "image/png": "[encoded data removed]",
      "text/plain": [
       "<Figure size 1500x500 with 1 Axes>"
      ]
     },
     "metadata": {},
     "output_type": "display_data"
    }
   ],
   "source": [
    "plt.figure(figsize=(15,5))\n",
    "#dataset bar chart\n",
    "plt.bar(df.columns,height=df.sum())\n",
    "# dataset bar chart name\n",
    "plt.title(\"Car Purchasing Data\",c = \"Green\")\n",
    "#x axis name\n",
    "plt.xlabel(\"Dataset\",c =\"green\")\n",
    "# y axis name\n",
    "plt.ylabel(\"Count\",c = \"green\")\n",
    "plt.show()"
   ]
  },
  {
   "cell_type": "code",
   "execution_count": 13,
   "id": "0564e3e6",
   "metadata": {},
   "outputs": [
    {
     "data": {
      "text/plain": [
       "Index(['Gender', 'Age', 'Annual Salary', 'Credit Card Debt', 'Net Worth',\n",
       "       'Car Purchase Amount'],\n",
       "      dtype='object')"
      ]
     },
     "execution_count": 13,
     "metadata": {},
     "output_type": "execute_result"
    }
   ],
   "source": [
    "#dataset columns name\n",
    "df.columns"
   ]
  },
  {
   "cell_type": "code",
   "execution_count": 14,
   "id": "5331c753",
   "metadata": {},
   "outputs": [
    {
     "data": {
      "text/plain": [
       "1    253\n",
       "0    247\n",
       "Name: Gender, dtype: int64"
      ]
     },
     "execution_count": 14,
     "metadata": {},
     "output_type": "execute_result"
    }
   ],
   "source": [
    "#Gender value_counts\n",
    "df.Gender.value_counts()"
   ]
  },
  {
   "cell_type": "code",
   "execution_count": 15,
   "id": "111e3df3",
   "metadata": {},
   "outputs": [
    {
     "data": {
      "image/png": "[encoded data removed]",
      "text/plain": [
       "<Figure size 500x500 with 1 Axes>"
      ]
     },
     "metadata": {},
     "output_type": "display_data"
    }
   ],
   "source": [
    "plt.figure(figsize=(5,5))\n",
    "#Gender count bar chart\n",
    "sns.countplot(\"Gender\",data=df)\n",
    "plt.show()"
   ]
  },
  {
   "cell_type": "code",
   "execution_count": 16,
   "id": "5cdd9417",
   "metadata": {},
   "outputs": [
    {
     "data": {
      "text/plain": [
       "43    34\n",
       "51    29\n",
       "42    26\n",
       "47    25\n",
       "48    25\n",
       "40    24\n",
       "44    23\n",
       "45    23\n",
       "53    20\n",
       "46    19\n",
       "50    19\n",
       "41    19\n",
       "57    17\n",
       "55    16\n",
       "52    15\n",
       "49    14\n",
       "37    14\n",
       "39    14\n",
       "56    11\n",
       "35    10\n",
       "54    10\n",
       "38    10\n",
       "33    10\n",
       "32     9\n",
       "36     9\n",
       "58     7\n",
       "34     6\n",
       "59     6\n",
       "63     6\n",
       "62     5\n",
       "61     5\n",
       "60     5\n",
       "30     3\n",
       "29     2\n",
       "70     2\n",
       "20     1\n",
       "31     1\n",
       "27     1\n",
       "22     1\n",
       "65     1\n",
       "64     1\n",
       "28     1\n",
       "25     1\n",
       "Name: Age, dtype: int64"
      ]
     },
     "execution_count": 16,
     "metadata": {},
     "output_type": "execute_result"
    }
   ],
   "source": [
    "#Age value_counts\n",
    "df.Age.value_counts()"
   ]
  },
  {
   "cell_type": "code",
   "execution_count": 17,
   "id": "eeb6b130",
   "metadata": {},
   "outputs": [
    {
     "data": {
      "image/png": "[encoded data removed]",
      "text/plain": [
       "<Figure size 5000x1000 with 1 Axes>"
      ]
     },
     "metadata": {},
     "output_type": "display_data"
    }
   ],
   "source": [
    "plt.figure(figsize=(50,10))\n",
    "#Age count bar chart\n",
    "sns.countplot(\"Age\",data=df)\n",
    "plt.show()"
   ]
  },
  {
   "cell_type": "code",
   "execution_count": 18,
   "id": "b9e6b60c",
   "metadata": {},
   "outputs": [
    {
     "data": {
      "text/html": [
       "<div>\n",
       "<style scoped>\n",
       "    .dataframe tbody tr th:only-of-type {\n",
       "        vertical-align: middle;\n",
       "    }\n",
       "\n",
       "    .dataframe tbody tr th {\n",
       "        vertical-align: top;\n",
       "    }\n",
       "\n",
       "    .dataframe thead th {\n",
       "        text-align: right;\n",
       "    }\n",
       "</style>\n",
       "<table border=\"1\" class=\"dataframe\">\n",
       "  <thead>\n",
       "    <tr style=\"text-align: right;\">\n",
       "      <th></th>\n",
       "      <th>Gender</th>\n",
       "      <th>Age</th>\n",
       "      <th>Annual Salary</th>\n",
       "      <th>Credit Card Debt</th>\n",
       "      <th>Net Worth</th>\n",
       "      <th>Car Purchase Amount</th>\n",
       "    </tr>\n",
       "  </thead>\n",
       "  <tbody>\n",
       "    <tr>\n",
       "      <th>count</th>\n",
       "      <td>500.000000</td>\n",
       "      <td>500.000000</td>\n",
       "      <td>500.000000</td>\n",
       "      <td>500.000000</td>\n",
       "      <td>500.000000</td>\n",
       "      <td>500.000000</td>\n",
       "    </tr>\n",
       "    <tr>\n",
       "      <th>mean</th>\n",
       "      <td>0.506000</td>\n",
       "      <td>46.224000</td>\n",
       "      <td>62127.239608</td>\n",
       "      <td>9607.645049</td>\n",
       "      <td>431475.713625</td>\n",
       "      <td>44209.799218</td>\n",
       "    </tr>\n",
       "    <tr>\n",
       "      <th>std</th>\n",
       "      <td>0.500465</td>\n",
       "      <td>7.990339</td>\n",
       "      <td>11703.378228</td>\n",
       "      <td>3489.187973</td>\n",
       "      <td>173536.756340</td>\n",
       "      <td>10773.178744</td>\n",
       "    </tr>\n",
       "    <tr>\n",
       "      <th>min</th>\n",
       "      <td>0.000000</td>\n",
       "      <td>20.000000</td>\n",
       "      <td>20000.000000</td>\n",
       "      <td>100.000000</td>\n",
       "      <td>20000.000000</td>\n",
       "      <td>9000.000000</td>\n",
       "    </tr>\n",
       "    <tr>\n",
       "      <th>25%</th>\n",
       "      <td>0.000000</td>\n",
       "      <td>41.000000</td>\n",
       "      <td>54391.977195</td>\n",
       "      <td>7397.515792</td>\n",
       "      <td>299824.195900</td>\n",
       "      <td>37629.896040</td>\n",
       "    </tr>\n",
       "    <tr>\n",
       "      <th>50%</th>\n",
       "      <td>1.000000</td>\n",
       "      <td>46.000000</td>\n",
       "      <td>62915.497035</td>\n",
       "      <td>9655.035568</td>\n",
       "      <td>426750.120650</td>\n",
       "      <td>43997.783390</td>\n",
       "    </tr>\n",
       "    <tr>\n",
       "      <th>75%</th>\n",
       "      <td>1.000000</td>\n",
       "      <td>52.000000</td>\n",
       "      <td>70117.862005</td>\n",
       "      <td>11798.867487</td>\n",
       "      <td>557324.478725</td>\n",
       "      <td>51254.709517</td>\n",
       "    </tr>\n",
       "    <tr>\n",
       "      <th>max</th>\n",
       "      <td>1.000000</td>\n",
       "      <td>70.000000</td>\n",
       "      <td>100000.000000</td>\n",
       "      <td>20000.000000</td>\n",
       "      <td>1000000.000000</td>\n",
       "      <td>80000.000000</td>\n",
       "    </tr>\n",
       "  </tbody>\n",
       "</table>\n",
       "</div>"
      ],
      "text/plain": [
       "           Gender         Age  Annual Salary  Credit Card Debt  \\\n",
       "count  500.000000  500.000000     500.000000        500.000000   \n",
       "mean     0.506000   46.224000   62127.239608       9607.645049   \n",
       "std      0.500465    7.990339   11703.378228       3489.187973   \n",
       "min      0.000000   20.000000   20000.000000        100.000000   \n",
       "25%      0.000000   41.000000   54391.977195       7397.515792   \n",
       "50%      1.000000   46.000000   62915.497035       9655.035568   \n",
       "75%      1.000000   52.000000   70117.862005      11798.867487   \n",
       "max      1.000000   70.000000  100000.000000      20000.000000   \n",
       "\n",
       "            Net Worth  Car Purchase Amount  \n",
       "count      500.000000           500.000000  \n",
       "mean    431475.713625         44209.799218  \n",
       "std     173536.756340         10773.178744  \n",
       "min      20000.000000          9000.000000  \n",
       "25%     299824.195900         37629.896040  \n",
       "50%     426750.120650         43997.783390  \n",
       "75%     557324.478725         51254.709517  \n",
       "max    1000000.000000         80000.000000  "
      ]
     },
     "execution_count": 18,
     "metadata": {},
     "output_type": "execute_result"
    }
   ],
   "source": [
    "# dataset describing\n",
    "df.describe()"
   ]
  },
  {
   "cell_type": "code",
   "execution_count": 19,
   "id": "539d1b62",
   "metadata": {},
   "outputs": [
    {
     "data": {
      "image/png": "[encoded data removed]",
      "text/plain": [
       "<Figure size 1500x1000 with 2 Axes>"
      ]
     },
     "metadata": {},
     "output_type": "display_data"
    }
   ],
   "source": [
    "plt.figure(figsize=(15,10))\n",
    "sns.heatmap(df.corr(),annot=True)\n",
    "plt.show()"
   ]
  },
  {
   "cell_type": "code",
   "execution_count": 20,
   "id": "208998db",
   "metadata": {},
   "outputs": [],
   "source": [
    "#feature\n",
    "x = df.drop(['Car Purchase Amount'],axis=1)"
   ]
  },
  {
   "cell_type": "code",
   "execution_count": 21,
   "id": "5287afe1",
   "metadata": {},
   "outputs": [],
   "source": [
    "#class\n",
    "y = df[['Car Purchase Amount']]"
   ]
  },
  {
   "cell_type": "code",
   "execution_count": 22,
   "id": "fd7f6977",
   "metadata": {},
   "outputs": [
    {
     "data": {
      "text/html": [
       "<div>\n",
       "<style scoped>\n",
       "    .dataframe tbody tr th:only-of-type {\n",
       "        vertical-align: middle;\n",
       "    }\n",
       "\n",
       "    .dataframe tbody tr th {\n",
       "        vertical-align: top;\n",
       "    }\n",
       "\n",
       "    .dataframe thead th {\n",
       "        text-align: right;\n",
       "    }\n",
       "</style>\n",
       "<table border=\"1\" class=\"dataframe\">\n",
       "  <thead>\n",
       "    <tr style=\"text-align: right;\">\n",
       "      <th></th>\n",
       "      <th>Gender</th>\n",
       "      <th>Age</th>\n",
       "      <th>Annual Salary</th>\n",
       "      <th>Credit Card Debt</th>\n",
       "      <th>Net Worth</th>\n",
       "    </tr>\n",
       "  </thead>\n",
       "  <tbody>\n",
       "    <tr>\n",
       "      <th>0</th>\n",
       "      <td>0</td>\n",
       "      <td>42</td>\n",
       "      <td>62812.09301</td>\n",
       "      <td>11609.380910</td>\n",
       "      <td>238961.2505</td>\n",
       "    </tr>\n",
       "    <tr>\n",
       "      <th>1</th>\n",
       "      <td>0</td>\n",
       "      <td>41</td>\n",
       "      <td>66646.89292</td>\n",
       "      <td>9572.957136</td>\n",
       "      <td>530973.9078</td>\n",
       "    </tr>\n",
       "    <tr>\n",
       "      <th>2</th>\n",
       "      <td>1</td>\n",
       "      <td>43</td>\n",
       "      <td>53798.55112</td>\n",
       "      <td>11160.355060</td>\n",
       "      <td>638467.1773</td>\n",
       "    </tr>\n",
       "    <tr>\n",
       "      <th>3</th>\n",
       "      <td>1</td>\n",
       "      <td>58</td>\n",
       "      <td>79370.03798</td>\n",
       "      <td>14426.164850</td>\n",
       "      <td>548599.0524</td>\n",
       "    </tr>\n",
       "    <tr>\n",
       "      <th>4</th>\n",
       "      <td>1</td>\n",
       "      <td>57</td>\n",
       "      <td>59729.15130</td>\n",
       "      <td>5358.712177</td>\n",
       "      <td>560304.0671</td>\n",
       "    </tr>\n",
       "  </tbody>\n",
       "</table>\n",
       "</div>"
      ],
      "text/plain": [
       "   Gender  Age  Annual Salary  Credit Card Debt    Net Worth\n",
       "0       0   42    62812.09301      11609.380910  238961.2505\n",
       "1       0   41    66646.89292       9572.957136  530973.9078\n",
       "2       1   43    53798.55112      11160.355060  638467.1773\n",
       "3       1   58    79370.03798      14426.164850  548599.0524\n",
       "4       1   57    59729.15130       5358.712177  560304.0671"
      ]
     },
     "execution_count": 22,
     "metadata": {},
     "output_type": "execute_result"
    }
   ],
   "source": [
    "#feature 1st 5 row show\n",
    "x.head()"
   ]
  },
  {
   "cell_type": "code",
   "execution_count": 23,
   "id": "52734c19",
   "metadata": {},
   "outputs": [
    {
     "data": {
      "image/png": "[encoded data removed]",
      "text/plain": [
       "<Figure size 1500x500 with 1 Axes>"
      ]
     },
     "metadata": {},
     "output_type": "display_data"
    }
   ],
   "source": [
    "plt.figure(figsize=(15,5))\n",
    "#dataset bar chart\n",
    "plt.bar(x.columns,height=x.sum())\n",
    "# dataset bar chart name\n",
    "plt.title(\"Car Purchasing Data\",c = \"Green\")\n",
    "#x axis name\n",
    "plt.xlabel(\"Feature\",c =\"green\")\n",
    "# y axis name\n",
    "plt.ylabel(\"Count\",c = \"green\")\n",
    "plt.show()"
   ]
  },
  {
   "cell_type": "code",
   "execution_count": 24,
   "id": "50aeb8f2",
   "metadata": {},
   "outputs": [
    {
     "data": {
      "text/html": [
       "<div>\n",
       "<style scoped>\n",
       "    .dataframe tbody tr th:only-of-type {\n",
       "        vertical-align: middle;\n",
       "    }\n",
       "\n",
       "    .dataframe tbody tr th {\n",
       "        vertical-align: top;\n",
       "    }\n",
       "\n",
       "    .dataframe thead th {\n",
       "        text-align: right;\n",
       "    }\n",
       "</style>\n",
       "<table border=\"1\" class=\"dataframe\">\n",
       "  <thead>\n",
       "    <tr style=\"text-align: right;\">\n",
       "      <th></th>\n",
       "      <th>Car Purchase Amount</th>\n",
       "    </tr>\n",
       "  </thead>\n",
       "  <tbody>\n",
       "    <tr>\n",
       "      <th>0</th>\n",
       "      <td>35321.45877</td>\n",
       "    </tr>\n",
       "    <tr>\n",
       "      <th>1</th>\n",
       "      <td>45115.52566</td>\n",
       "    </tr>\n",
       "    <tr>\n",
       "      <th>2</th>\n",
       "      <td>42925.70921</td>\n",
       "    </tr>\n",
       "    <tr>\n",
       "      <th>3</th>\n",
       "      <td>67422.36313</td>\n",
       "    </tr>\n",
       "    <tr>\n",
       "      <th>4</th>\n",
       "      <td>55915.46248</td>\n",
       "    </tr>\n",
       "  </tbody>\n",
       "</table>\n",
       "</div>"
      ],
      "text/plain": [
       "   Car Purchase Amount\n",
       "0          35321.45877\n",
       "1          45115.52566\n",
       "2          42925.70921\n",
       "3          67422.36313\n",
       "4          55915.46248"
      ]
     },
     "execution_count": 24,
     "metadata": {},
     "output_type": "execute_result"
    }
   ],
   "source": [
    "#class 1st 5 row show\n",
    "y.head()"
   ]
  },
  {
   "cell_type": "code",
   "execution_count": null,
   "id": "da6b9c60",
   "metadata": {},
   "outputs": [],
   "source": []
  },
  {
   "cell_type": "markdown",
   "id": "a92c7e76",
   "metadata": {},
   "source": [
    "# Fature Importances"
   ]
  },
  {
   "cell_type": "code",
   "execution_count": 25,
   "id": "d1a98adf",
   "metadata": {},
   "outputs": [],
   "source": [
    "#import ExtraTreesRegressor\n",
    "from sklearn.ensemble import ExtraTreesRegressor"
   ]
  },
  {
   "cell_type": "code",
   "execution_count": 26,
   "id": "d56c804c",
   "metadata": {},
   "outputs": [],
   "source": [
    "# creating ExtraTreesRegressor object\n",
    "ext = ExtraTreesRegressor()"
   ]
  },
  {
   "cell_type": "code",
   "execution_count": 27,
   "id": "788bd5d8",
   "metadata": {},
   "outputs": [
    {
     "data": {
      "text/plain": [
       "ExtraTreesRegressor()"
      ]
     },
     "execution_count": 27,
     "metadata": {},
     "output_type": "execute_result"
    }
   ],
   "source": [
    "#training model\n",
    "ext.fit(x,y)"
   ]
  },
  {
   "cell_type": "code",
   "execution_count": 28,
   "id": "2b7fbc03",
   "metadata": {},
   "outputs": [
    {
     "data": {
      "text/plain": [
       "array([0.00766974, 0.38797984, 0.36751839, 0.0115674 , 0.22526463])"
      ]
     },
     "execution_count": 28,
     "metadata": {},
     "output_type": "execute_result"
    }
   ],
   "source": [
    "#feature_importances_\n",
    "ext.feature_importances_"
   ]
  },
  {
   "cell_type": "code",
   "execution_count": 29,
   "id": "cda5e036",
   "metadata": {},
   "outputs": [],
   "source": [
    "#feature importances name\n",
    "top = pd.Series(ext.feature_importances_,index=x.columns)"
   ]
  },
  {
   "cell_type": "code",
   "execution_count": 30,
   "id": "e504f439",
   "metadata": {},
   "outputs": [
    {
     "data": {
      "text/plain": [
       "Gender              0.007670\n",
       "Age                 0.387980\n",
       "Annual Salary       0.367518\n",
       "Credit Card Debt    0.011567\n",
       "Net Worth           0.225265\n",
       "dtype: float64"
      ]
     },
     "execution_count": 30,
     "metadata": {},
     "output_type": "execute_result"
    }
   ],
   "source": [
    "top"
   ]
  },
  {
   "cell_type": "code",
   "execution_count": 31,
   "id": "94081d5a",
   "metadata": {},
   "outputs": [
    {
     "data": {
      "text/plain": [
       "(5,)"
      ]
     },
     "execution_count": 31,
     "metadata": {},
     "output_type": "execute_result"
    }
   ],
   "source": [
    "top.shape"
   ]
  },
  {
   "cell_type": "code",
   "execution_count": 32,
   "id": "42a73f20",
   "metadata": {},
   "outputs": [
    {
     "data": {
      "image/png": "[encoded data removed]",
      "text/plain": [
       "<Figure size 640x480 with 1 Axes>"
      ]
     },
     "metadata": {},
     "output_type": "display_data"
    }
   ],
   "source": [
    "# top feature bar chart\n",
    "top.nlargest(6).plot(kind= \"bar\")\n",
    "plt.show()"
   ]
  },
  {
   "cell_type": "code",
   "execution_count": 33,
   "id": "9e64c7da",
   "metadata": {},
   "outputs": [
    {
     "data": {
      "image/png": "[encoded data removed]",
      "text/plain": [
       "<Figure size 640x480 with 1 Axes>"
      ]
     },
     "metadata": {},
     "output_type": "display_data"
    }
   ],
   "source": [
    "# top feature bar chart\n",
    "top.nlargest(6).plot(kind= \"barh\")\n",
    "plt.show()"
   ]
  },
  {
   "cell_type": "code",
   "execution_count": 34,
   "id": "477d8807",
   "metadata": {},
   "outputs": [
    {
     "data": {
      "image/png": "[encoded data removed]",
      "text/plain": [
       "<Figure size 640x480 with 1 Axes>"
      ]
     },
     "metadata": {},
     "output_type": "display_data"
    }
   ],
   "source": [
    "# top feature bar chart\n",
    "top.nsmallest(6).plot(kind= \"bar\")\n",
    "plt.show()"
   ]
  },
  {
   "cell_type": "code",
   "execution_count": 35,
   "id": "3b73fcc7",
   "metadata": {},
   "outputs": [
    {
     "data": {
      "image/png": "[encoded data removed]",
      "text/plain": [
       "<Figure size 640x480 with 1 Axes>"
      ]
     },
     "metadata": {},
     "output_type": "display_data"
    }
   ],
   "source": [
    "# top feature bar chart\n",
    "top.nsmallest(6).plot(kind= \"barh\")\n",
    "plt.show()"
   ]
  },
  {
   "cell_type": "code",
   "execution_count": 36,
   "id": "25f86d60",
   "metadata": {},
   "outputs": [
    {
     "data": {
      "image/png": "[encoded data removed]",
      "text/plain": [
       "<Figure size 640x480 with 1 Axes>"
      ]
     },
     "metadata": {},
     "output_type": "display_data"
    }
   ],
   "source": [
    "# top feature bar chart\n",
    "top.nlargest(6).plot(kind= \"pie\")\n",
    "plt.show()"
   ]
  },
  {
   "cell_type": "code",
   "execution_count": null,
   "id": "01cd4cd9",
   "metadata": {},
   "outputs": [],
   "source": []
  },
  {
   "cell_type": "markdown",
   "id": "f729f563",
   "metadata": {},
   "source": [
    "# Feature Scaling"
   ]
  },
  {
   "cell_type": "code",
   "execution_count": 37,
   "id": "0704e19f",
   "metadata": {},
   "outputs": [],
   "source": [
    "#import StandardScaler\n",
    "from sklearn.preprocessing import StandardScaler"
   ]
  },
  {
   "cell_type": "code",
   "execution_count": 38,
   "id": "7239a5c9",
   "metadata": {},
   "outputs": [],
   "source": [
    "sts = StandardScaler()"
   ]
  },
  {
   "cell_type": "code",
   "execution_count": 39,
   "id": "812a0a27",
   "metadata": {},
   "outputs": [],
   "source": [
    "# feature scaling in x columns\n",
    "for column in x:\n",
    "    if x[column].dtypes == \"float64\" or \"int64\":\n",
    "        x[column]=sts.fit_transform(x[[column]])"
   ]
  },
  {
   "cell_type": "code",
   "execution_count": 40,
   "id": "742b326e",
   "metadata": {},
   "outputs": [
    {
     "data": {
      "text/html": [
       "<div>\n",
       "<style scoped>\n",
       "    .dataframe tbody tr th:only-of-type {\n",
       "        vertical-align: middle;\n",
       "    }\n",
       "\n",
       "    .dataframe tbody tr th {\n",
       "        vertical-align: top;\n",
       "    }\n",
       "\n",
       "    .dataframe thead th {\n",
       "        text-align: right;\n",
       "    }\n",
       "</style>\n",
       "<table border=\"1\" class=\"dataframe\">\n",
       "  <thead>\n",
       "    <tr style=\"text-align: right;\">\n",
       "      <th></th>\n",
       "      <th>Gender</th>\n",
       "      <th>Age</th>\n",
       "      <th>Annual Salary</th>\n",
       "      <th>Credit Card Debt</th>\n",
       "      <th>Net Worth</th>\n",
       "    </tr>\n",
       "  </thead>\n",
       "  <tbody>\n",
       "    <tr>\n",
       "      <th>0</th>\n",
       "      <td>-1.012073</td>\n",
       "      <td>-0.529168</td>\n",
       "      <td>0.058576</td>\n",
       "      <td>0.574271</td>\n",
       "      <td>-1.110469</td>\n",
       "    </tr>\n",
       "    <tr>\n",
       "      <th>1</th>\n",
       "      <td>-1.012073</td>\n",
       "      <td>-0.654444</td>\n",
       "      <td>0.386570</td>\n",
       "      <td>-0.009951</td>\n",
       "      <td>0.573929</td>\n",
       "    </tr>\n",
       "    <tr>\n",
       "      <th>2</th>\n",
       "      <td>0.988071</td>\n",
       "      <td>-0.403891</td>\n",
       "      <td>-0.712361</td>\n",
       "      <td>0.445452</td>\n",
       "      <td>1.193976</td>\n",
       "    </tr>\n",
       "    <tr>\n",
       "      <th>3</th>\n",
       "      <td>0.988071</td>\n",
       "      <td>1.475256</td>\n",
       "      <td>1.474794</td>\n",
       "      <td>1.382369</td>\n",
       "      <td>0.675595</td>\n",
       "    </tr>\n",
       "    <tr>\n",
       "      <th>4</th>\n",
       "      <td>0.988071</td>\n",
       "      <td>1.349979</td>\n",
       "      <td>-0.205111</td>\n",
       "      <td>-1.218962</td>\n",
       "      <td>0.743113</td>\n",
       "    </tr>\n",
       "  </tbody>\n",
       "</table>\n",
       "</div>"
      ],
      "text/plain": [
       "     Gender       Age  Annual Salary  Credit Card Debt  Net Worth\n",
       "0 -1.012073 -0.529168       0.058576          0.574271  -1.110469\n",
       "1 -1.012073 -0.654444       0.386570         -0.009951   0.573929\n",
       "2  0.988071 -0.403891      -0.712361          0.445452   1.193976\n",
       "3  0.988071  1.475256       1.474794          1.382369   0.675595\n",
       "4  0.988071  1.349979      -0.205111         -1.218962   0.743113"
      ]
     },
     "execution_count": 40,
     "metadata": {},
     "output_type": "execute_result"
    }
   ],
   "source": [
    "# feature 1st 5 row show\n",
    "x.head()"
   ]
  },
  {
   "cell_type": "code",
   "execution_count": null,
   "id": "5f6d1539",
   "metadata": {},
   "outputs": [],
   "source": []
  },
  {
   "cell_type": "markdown",
   "id": "73b8c9e4",
   "metadata": {},
   "source": [
    "# Training & Testing Dataset"
   ]
  },
  {
   "cell_type": "code",
   "execution_count": 41,
   "id": "82debaf6",
   "metadata": {},
   "outputs": [],
   "source": [
    "#import train_test_split\n",
    "from sklearn.model_selection import train_test_split"
   ]
  },
  {
   "cell_type": "code",
   "execution_count": 42,
   "id": "d4bca792",
   "metadata": {},
   "outputs": [],
   "source": [
    "#70% data tarining & 30% data testing\n",
    "xtrain,xtest,ytrain,ytest=train_test_split(x,y,test_size=0.30,random_state=42)"
   ]
  },
  {
   "cell_type": "code",
   "execution_count": 43,
   "id": "e0d4caab",
   "metadata": {},
   "outputs": [
    {
     "data": {
      "text/html": [
       "<div>\n",
       "<style scoped>\n",
       "    .dataframe tbody tr th:only-of-type {\n",
       "        vertical-align: middle;\n",
       "    }\n",
       "\n",
       "    .dataframe tbody tr th {\n",
       "        vertical-align: top;\n",
       "    }\n",
       "\n",
       "    .dataframe thead th {\n",
       "        text-align: right;\n",
       "    }\n",
       "</style>\n",
       "<table border=\"1\" class=\"dataframe\">\n",
       "  <thead>\n",
       "    <tr style=\"text-align: right;\">\n",
       "      <th></th>\n",
       "      <th>Gender</th>\n",
       "      <th>Age</th>\n",
       "      <th>Annual Salary</th>\n",
       "      <th>Credit Card Debt</th>\n",
       "      <th>Net Worth</th>\n",
       "    </tr>\n",
       "  </thead>\n",
       "  <tbody>\n",
       "    <tr>\n",
       "      <th>5</th>\n",
       "      <td>0.988071</td>\n",
       "      <td>1.349979</td>\n",
       "      <td>0.545056</td>\n",
       "      <td>1.311596</td>\n",
       "      <td>-0.017249</td>\n",
       "    </tr>\n",
       "    <tr>\n",
       "      <th>116</th>\n",
       "      <td>0.988071</td>\n",
       "      <td>-0.403891</td>\n",
       "      <td>0.602819</td>\n",
       "      <td>-1.023626</td>\n",
       "      <td>-0.610131</td>\n",
       "    </tr>\n",
       "    <tr>\n",
       "      <th>45</th>\n",
       "      <td>-1.012073</td>\n",
       "      <td>1.099426</td>\n",
       "      <td>0.740702</td>\n",
       "      <td>0.157127</td>\n",
       "      <td>2.436724</td>\n",
       "    </tr>\n",
       "    <tr>\n",
       "      <th>16</th>\n",
       "      <td>-1.012073</td>\n",
       "      <td>-0.153338</td>\n",
       "      <td>0.096876</td>\n",
       "      <td>0.541615</td>\n",
       "      <td>-0.352552</td>\n",
       "    </tr>\n",
       "    <tr>\n",
       "      <th>462</th>\n",
       "      <td>-1.012073</td>\n",
       "      <td>-0.904997</td>\n",
       "      <td>0.389426</td>\n",
       "      <td>0.188055</td>\n",
       "      <td>0.723742</td>\n",
       "    </tr>\n",
       "  </tbody>\n",
       "</table>\n",
       "</div>"
      ],
      "text/plain": [
       "       Gender       Age  Annual Salary  Credit Card Debt  Net Worth\n",
       "5    0.988071  1.349979       0.545056          1.311596  -0.017249\n",
       "116  0.988071 -0.403891       0.602819         -1.023626  -0.610131\n",
       "45  -1.012073  1.099426       0.740702          0.157127   2.436724\n",
       "16  -1.012073 -0.153338       0.096876          0.541615  -0.352552\n",
       "462 -1.012073 -0.904997       0.389426          0.188055   0.723742"
      ]
     },
     "execution_count": 43,
     "metadata": {},
     "output_type": "execute_result"
    }
   ],
   "source": [
    "#training data 1st 5 row show\n",
    "xtrain.head()"
   ]
  },
  {
   "cell_type": "code",
   "execution_count": 44,
   "id": "c0546f84",
   "metadata": {},
   "outputs": [
    {
     "data": {
      "text/html": [
       "<div>\n",
       "<style scoped>\n",
       "    .dataframe tbody tr th:only-of-type {\n",
       "        vertical-align: middle;\n",
       "    }\n",
       "\n",
       "    .dataframe tbody tr th {\n",
       "        vertical-align: top;\n",
       "    }\n",
       "\n",
       "    .dataframe thead th {\n",
       "        text-align: right;\n",
       "    }\n",
       "</style>\n",
       "<table border=\"1\" class=\"dataframe\">\n",
       "  <thead>\n",
       "    <tr style=\"text-align: right;\">\n",
       "      <th></th>\n",
       "      <th>Car Purchase Amount</th>\n",
       "    </tr>\n",
       "  </thead>\n",
       "  <tbody>\n",
       "    <tr>\n",
       "      <th>5</th>\n",
       "      <td>56611.99784</td>\n",
       "    </tr>\n",
       "    <tr>\n",
       "      <th>116</th>\n",
       "      <td>42408.02625</td>\n",
       "    </tr>\n",
       "    <tr>\n",
       "      <th>45</th>\n",
       "      <td>68925.09447</td>\n",
       "    </tr>\n",
       "    <tr>\n",
       "      <th>16</th>\n",
       "      <td>41814.72067</td>\n",
       "    </tr>\n",
       "    <tr>\n",
       "      <th>462</th>\n",
       "      <td>44430.63323</td>\n",
       "    </tr>\n",
       "  </tbody>\n",
       "</table>\n",
       "</div>"
      ],
      "text/plain": [
       "     Car Purchase Amount\n",
       "5            56611.99784\n",
       "116          42408.02625\n",
       "45           68925.09447\n",
       "16           41814.72067\n",
       "462          44430.63323"
      ]
     },
     "execution_count": 44,
     "metadata": {},
     "output_type": "execute_result"
    }
   ],
   "source": [
    "#training data 1st 5 row show\n",
    "ytrain.head()"
   ]
  },
  {
   "cell_type": "code",
   "execution_count": 45,
   "id": "6db7051f",
   "metadata": {},
   "outputs": [
    {
     "data": {
      "text/plain": [
       "(350, 5)"
      ]
     },
     "execution_count": 45,
     "metadata": {},
     "output_type": "execute_result"
    }
   ],
   "source": [
    "#training data size\n",
    "xtrain.shape"
   ]
  },
  {
   "cell_type": "code",
   "execution_count": 46,
   "id": "4d9ffc3b",
   "metadata": {},
   "outputs": [
    {
     "data": {
      "text/plain": [
       "(350, 1)"
      ]
     },
     "execution_count": 46,
     "metadata": {},
     "output_type": "execute_result"
    }
   ],
   "source": [
    "#training data size\n",
    "ytrain.shape"
   ]
  },
  {
   "cell_type": "code",
   "execution_count": 47,
   "id": "4610c892",
   "metadata": {},
   "outputs": [
    {
     "data": {
      "text/html": [
       "<div>\n",
       "<style scoped>\n",
       "    .dataframe tbody tr th:only-of-type {\n",
       "        vertical-align: middle;\n",
       "    }\n",
       "\n",
       "    .dataframe tbody tr th {\n",
       "        vertical-align: top;\n",
       "    }\n",
       "\n",
       "    .dataframe thead th {\n",
       "        text-align: right;\n",
       "    }\n",
       "</style>\n",
       "<table border=\"1\" class=\"dataframe\">\n",
       "  <thead>\n",
       "    <tr style=\"text-align: right;\">\n",
       "      <th></th>\n",
       "      <th>Gender</th>\n",
       "      <th>Age</th>\n",
       "      <th>Annual Salary</th>\n",
       "      <th>Credit Card Debt</th>\n",
       "      <th>Net Worth</th>\n",
       "    </tr>\n",
       "  </thead>\n",
       "  <tbody>\n",
       "    <tr>\n",
       "      <th>361</th>\n",
       "      <td>-1.012073</td>\n",
       "      <td>-1.280827</td>\n",
       "      <td>1.051421</td>\n",
       "      <td>0.191207</td>\n",
       "      <td>0.691431</td>\n",
       "    </tr>\n",
       "    <tr>\n",
       "      <th>73</th>\n",
       "      <td>0.988071</td>\n",
       "      <td>0.222491</td>\n",
       "      <td>-0.255569</td>\n",
       "      <td>-1.427864</td>\n",
       "      <td>0.244401</td>\n",
       "    </tr>\n",
       "    <tr>\n",
       "      <th>374</th>\n",
       "      <td>0.988071</td>\n",
       "      <td>1.349979</td>\n",
       "      <td>0.481124</td>\n",
       "      <td>1.217626</td>\n",
       "      <td>1.301907</td>\n",
       "    </tr>\n",
       "    <tr>\n",
       "      <th>155</th>\n",
       "      <td>-1.012073</td>\n",
       "      <td>0.473044</td>\n",
       "      <td>-0.576967</td>\n",
       "      <td>-1.296557</td>\n",
       "      <td>-2.373490</td>\n",
       "    </tr>\n",
       "    <tr>\n",
       "      <th>104</th>\n",
       "      <td>-1.012073</td>\n",
       "      <td>0.222491</td>\n",
       "      <td>0.158046</td>\n",
       "      <td>0.288955</td>\n",
       "      <td>2.653183</td>\n",
       "    </tr>\n",
       "  </tbody>\n",
       "</table>\n",
       "</div>"
      ],
      "text/plain": [
       "       Gender       Age  Annual Salary  Credit Card Debt  Net Worth\n",
       "361 -1.012073 -1.280827       1.051421          0.191207   0.691431\n",
       "73   0.988071  0.222491      -0.255569         -1.427864   0.244401\n",
       "374  0.988071  1.349979       0.481124          1.217626   1.301907\n",
       "155 -1.012073  0.473044      -0.576967         -1.296557  -2.373490\n",
       "104 -1.012073  0.222491       0.158046          0.288955   2.653183"
      ]
     },
     "execution_count": 47,
     "metadata": {},
     "output_type": "execute_result"
    }
   ],
   "source": [
    "#testing data 1st 5 row show\n",
    "xtest.head()"
   ]
  },
  {
   "cell_type": "code",
   "execution_count": 48,
   "id": "454705f9",
   "metadata": {},
   "outputs": [
    {
     "data": {
      "text/html": [
       "<div>\n",
       "<style scoped>\n",
       "    .dataframe tbody tr th:only-of-type {\n",
       "        vertical-align: middle;\n",
       "    }\n",
       "\n",
       "    .dataframe tbody tr th {\n",
       "        vertical-align: top;\n",
       "    }\n",
       "\n",
       "    .dataframe thead th {\n",
       "        text-align: right;\n",
       "    }\n",
       "</style>\n",
       "<table border=\"1\" class=\"dataframe\">\n",
       "  <thead>\n",
       "    <tr style=\"text-align: right;\">\n",
       "      <th></th>\n",
       "      <th>Car Purchase Amount</th>\n",
       "    </tr>\n",
       "  </thead>\n",
       "  <tbody>\n",
       "    <tr>\n",
       "      <th>361</th>\n",
       "      <td>46082.80993</td>\n",
       "    </tr>\n",
       "    <tr>\n",
       "      <th>73</th>\n",
       "      <td>45058.89690</td>\n",
       "    </tr>\n",
       "    <tr>\n",
       "      <th>374</th>\n",
       "      <td>63079.84329</td>\n",
       "    </tr>\n",
       "    <tr>\n",
       "      <th>155</th>\n",
       "      <td>31837.22537</td>\n",
       "    </tr>\n",
       "    <tr>\n",
       "      <th>104</th>\n",
       "      <td>60461.24268</td>\n",
       "    </tr>\n",
       "  </tbody>\n",
       "</table>\n",
       "</div>"
      ],
      "text/plain": [
       "     Car Purchase Amount\n",
       "361          46082.80993\n",
       "73           45058.89690\n",
       "374          63079.84329\n",
       "155          31837.22537\n",
       "104          60461.24268"
      ]
     },
     "execution_count": 48,
     "metadata": {},
     "output_type": "execute_result"
    }
   ],
   "source": [
    "#testing data 1st 5 row show\n",
    "ytest.head()"
   ]
  },
  {
   "cell_type": "code",
   "execution_count": 49,
   "id": "68336c27",
   "metadata": {},
   "outputs": [
    {
     "data": {
      "text/plain": [
       "(150, 5)"
      ]
     },
     "execution_count": 49,
     "metadata": {},
     "output_type": "execute_result"
    }
   ],
   "source": [
    "#testing data size\n",
    "xtest.shape"
   ]
  },
  {
   "cell_type": "code",
   "execution_count": 50,
   "id": "85739032",
   "metadata": {},
   "outputs": [
    {
     "data": {
      "text/plain": [
       "(150, 1)"
      ]
     },
     "execution_count": 50,
     "metadata": {},
     "output_type": "execute_result"
    }
   ],
   "source": [
    "#testing data size\n",
    "ytest.shape"
   ]
  },
  {
   "cell_type": "code",
   "execution_count": null,
   "id": "fd7bfff0",
   "metadata": {},
   "outputs": [],
   "source": []
  },
  {
   "cell_type": "markdown",
   "id": "4ec7ed1c",
   "metadata": {},
   "source": [
    "# PCA"
   ]
  },
  {
   "cell_type": "code",
   "execution_count": 51,
   "id": "b99bfaaf",
   "metadata": {},
   "outputs": [],
   "source": [
    "#import pca\n",
    "from sklearn.decomposition import PCA"
   ]
  },
  {
   "cell_type": "code",
   "execution_count": 52,
   "id": "43b3402f",
   "metadata": {},
   "outputs": [],
   "source": [
    "#creating pca object & feature components 90%\n",
    "pca = PCA(n_components=0.90)"
   ]
  },
  {
   "cell_type": "code",
   "execution_count": 53,
   "id": "cc01961f",
   "metadata": {},
   "outputs": [],
   "source": [
    "#training model & transform \n",
    "xtrain = pca.fit_transform(xtrain)"
   ]
  },
  {
   "cell_type": "code",
   "execution_count": 54,
   "id": "d1d30582",
   "metadata": {},
   "outputs": [],
   "source": [
    "#testing  transform \n",
    "xtest = pca.transform(xtest)"
   ]
  },
  {
   "cell_type": "code",
   "execution_count": 55,
   "id": "fd21d266",
   "metadata": {},
   "outputs": [
    {
     "data": {
      "text/plain": [
       "array([0.21916994, 0.2131393 , 0.2054464 , 0.18904658, 0.17319779])"
      ]
     },
     "execution_count": 55,
     "metadata": {},
     "output_type": "execute_result"
    }
   ],
   "source": [
    "pca.explained_variance_ratio_"
   ]
  },
  {
   "cell_type": "code",
   "execution_count": 56,
   "id": "520b29d4",
   "metadata": {},
   "outputs": [
    {
     "data": {
      "text/plain": [
       "0.9999999999999998"
      ]
     },
     "execution_count": 56,
     "metadata": {},
     "output_type": "execute_result"
    }
   ],
   "source": [
    "sum(pca.explained_variance_ratio_)"
   ]
  },
  {
   "cell_type": "code",
   "execution_count": null,
   "id": "55b94098",
   "metadata": {},
   "outputs": [],
   "source": []
  },
  {
   "cell_type": "markdown",
   "id": "9c1f87f2",
   "metadata": {},
   "source": [
    "# LinearRegression"
   ]
  },
  {
   "cell_type": "code",
   "execution_count": 57,
   "id": "f7ee5cb8",
   "metadata": {},
   "outputs": [],
   "source": [
    "# import LinearRegression\n",
    "from sklearn.linear_model import LinearRegression"
   ]
  },
  {
   "cell_type": "code",
   "execution_count": 58,
   "id": "30a9e135",
   "metadata": {},
   "outputs": [],
   "source": [
    "#creating LinearRegression object\n",
    "lr = LinearRegression()"
   ]
  },
  {
   "cell_type": "code",
   "execution_count": 59,
   "id": "27eed004",
   "metadata": {},
   "outputs": [
    {
     "data": {
      "text/plain": [
       "LinearRegression()"
      ]
     },
     "execution_count": 59,
     "metadata": {},
     "output_type": "execute_result"
    }
   ],
   "source": [
    "# training model\n",
    "lr.fit(xtrain,ytrain)"
   ]
  },
  {
   "cell_type": "code",
   "execution_count": 60,
   "id": "4cdc2e9a",
   "metadata": {},
   "outputs": [
    {
     "data": {
      "text/plain": [
       "array([[46003.22830217],\n",
       "       [45207.76050493],\n",
       "       [62986.57091952],\n",
       "       [31610.31656668],\n",
       "       [60028.12436917],\n",
       "       [63053.54853297],\n",
       "       [52227.90321371],\n",
       "       [54525.01610371],\n",
       "       [52399.23960848],\n",
       "       [48245.50091306],\n",
       "       [37974.0306132 ],\n",
       "       [56170.38049232],\n",
       "       [44671.72122194],\n",
       "       [39296.30702718],\n",
       "       [40163.23877446],\n",
       "       [55260.32721713],\n",
       "       [48491.56226077],\n",
       "       [17240.34774819],\n",
       "       [60918.03911957],\n",
       "       [49999.27763758],\n",
       "       [41602.07141471],\n",
       "       [52649.97835343],\n",
       "       [51787.60918749],\n",
       "       [38485.41663084],\n",
       "       [41125.19665228],\n",
       "       [38687.12387357],\n",
       "       [64187.09074458],\n",
       "       [47923.05741017],\n",
       "       [23080.54566654],\n",
       "       [52490.56726699],\n",
       "       [54899.00458439],\n",
       "       [46097.87474434],\n",
       "       [41554.67894923],\n",
       "       [57330.88153031],\n",
       "       [42831.87135174],\n",
       "       [39622.67578419],\n",
       "       [61898.64521288],\n",
       "       [30735.36922373],\n",
       "       [41858.62923519],\n",
       "       [39990.26655547],\n",
       "       [57253.73638574],\n",
       "       [61043.68063803],\n",
       "       [47050.26418542],\n",
       "       [36372.29725153],\n",
       "       [53074.4016927 ],\n",
       "       [44824.2611666 ],\n",
       "       [35477.29944872],\n",
       "       [42149.94135299],\n",
       "       [52134.01292487],\n",
       "       [47640.91970745],\n",
       "       [41989.58599849],\n",
       "       [32706.41340215],\n",
       "       [38252.78330244],\n",
       "       [41533.4813615 ],\n",
       "       [44823.94019395],\n",
       "       [47925.53756222],\n",
       "       [60582.19938203],\n",
       "       [44740.90908321],\n",
       "       [44757.24813233],\n",
       "       [38406.18544355],\n",
       "       [64322.43439175],\n",
       "       [43507.53065082],\n",
       "       [22816.58326495],\n",
       "       [55052.69192628],\n",
       "       [40935.71357042],\n",
       "       [54762.51016127],\n",
       "       [60319.39039734],\n",
       "       [34086.19508661],\n",
       "       [43156.72721322],\n",
       "       [48322.98918934],\n",
       "       [59979.00827597],\n",
       "       [28651.05980762],\n",
       "       [59293.71072439],\n",
       "       [55034.67026441],\n",
       "       [60004.82608136],\n",
       "       [21801.88522508],\n",
       "       [41201.05682559],\n",
       "       [49379.48060596],\n",
       "       [32595.137122  ],\n",
       "       [61028.47001136],\n",
       "       [42401.96547283],\n",
       "       [30675.71927053],\n",
       "       [36105.05426959],\n",
       "       [43602.84152874],\n",
       "       [50568.38472083],\n",
       "       [39002.59855428],\n",
       "       [38568.89150251],\n",
       "       [30776.41853387],\n",
       "       [39857.58458454],\n",
       "       [35771.73158696],\n",
       "       [29492.54094098],\n",
       "       [37140.06839632],\n",
       "       [31358.99606361],\n",
       "       [40821.50205038],\n",
       "       [32308.44726644],\n",
       "       [49111.72806428],\n",
       "       [44799.48695523],\n",
       "       [51030.98821747],\n",
       "       [43659.92904285],\n",
       "       [52787.44942055],\n",
       "       [46050.80728563],\n",
       "       [29699.91022685],\n",
       "       [55017.75847699],\n",
       "       [59432.88105167],\n",
       "       [25076.57360944],\n",
       "       [47588.43762074],\n",
       "       [42270.78879644],\n",
       "       [41962.82141796],\n",
       "       [44989.54918721],\n",
       "       [39455.85268036],\n",
       "       [39438.23687938],\n",
       "       [49914.95391452],\n",
       "       [39627.25815322],\n",
       "       [44781.59152781],\n",
       "       [52217.69835948],\n",
       "       [53298.07385729],\n",
       "       [65856.39464843],\n",
       "       [49556.7821407 ],\n",
       "       [41791.74692044],\n",
       "       [28430.14887745],\n",
       "       [60813.28147569],\n",
       "       [40968.09517281],\n",
       "       [52984.91532864],\n",
       "       [31510.83784178],\n",
       "       [44025.83261844],\n",
       "       [28665.74885919],\n",
       "       [39729.18171751],\n",
       "       [51667.02790531],\n",
       "       [63945.22503795],\n",
       "       [31358.09837951],\n",
       "       [44403.06486806],\n",
       "       [51503.0679419 ],\n",
       "       [69930.65049115],\n",
       "       [39237.82145594],\n",
       "       [63152.98899547],\n",
       "       [41435.16922562],\n",
       "       [38252.15569847],\n",
       "       [45120.22380119],\n",
       "       [43832.53895559],\n",
       "       [38934.25369571],\n",
       "       [47864.43622755],\n",
       "       [32427.5662026 ],\n",
       "       [53405.8539271 ],\n",
       "       [53907.72111107],\n",
       "       [37033.16428891],\n",
       "       [36803.83359922],\n",
       "       [46642.58710007],\n",
       "       [46516.8622243 ],\n",
       "       [31458.32061303],\n",
       "       [35865.48117119]])"
      ]
     },
     "execution_count": 60,
     "metadata": {},
     "output_type": "execute_result"
    }
   ],
   "source": [
    "# all prediction\n",
    "lr.predict(xtest)"
   ]
  },
  {
   "cell_type": "markdown",
   "id": "b67c817a",
   "metadata": {},
   "source": [
    "# R^2 Score & MSE & MAE"
   ]
  },
  {
   "cell_type": "code",
   "execution_count": 61,
   "id": "c26c9ece",
   "metadata": {},
   "outputs": [],
   "source": [
    "#import r2_score,mean_squared_error & mean_absolute_error\n",
    "from sklearn.metrics import r2_score,mean_squared_error,mean_absolute_error"
   ]
  },
  {
   "cell_type": "code",
   "execution_count": 62,
   "id": "be46388d",
   "metadata": {},
   "outputs": [
    {
     "data": {
      "text/plain": [
       "0.9995345377746694"
      ]
     },
     "execution_count": 62,
     "metadata": {},
     "output_type": "execute_result"
    }
   ],
   "source": [
    "#LinearRegression training score\n",
    "lr.score(xtrain,ytrain)"
   ]
  },
  {
   "cell_type": "code",
   "execution_count": 63,
   "id": "b882b8f1",
   "metadata": {},
   "outputs": [
    {
     "data": {
      "text/plain": [
       "0.9993975955578742"
      ]
     },
     "execution_count": 63,
     "metadata": {},
     "output_type": "execute_result"
    }
   ],
   "source": [
    "#LinearRegression testing score\n",
    "lr.score(xtest,ytest)"
   ]
  },
  {
   "cell_type": "code",
   "execution_count": 64,
   "id": "646acbdb",
   "metadata": {},
   "outputs": [
    {
     "data": {
      "text/plain": [
       "0.9993975955578742"
      ]
     },
     "execution_count": 64,
     "metadata": {},
     "output_type": "execute_result"
    }
   ],
   "source": [
    "#LinearRegression r^2 score\n",
    "r2_score(ytest,lr.predict(xtest))"
   ]
  },
  {
   "cell_type": "code",
   "execution_count": 65,
   "id": "bb7557c1",
   "metadata": {},
   "outputs": [
    {
     "data": {
      "text/plain": [
       "64278.98864257646"
      ]
     },
     "execution_count": 65,
     "metadata": {},
     "output_type": "execute_result"
    }
   ],
   "source": [
    "#LinearRegression mse score\n",
    "mean_squared_error(ytest,lr.predict(xtest))"
   ]
  },
  {
   "cell_type": "code",
   "execution_count": 66,
   "id": "f59ac20d",
   "metadata": {},
   "outputs": [
    {
     "data": {
      "text/plain": [
       "217.7427178030663"
      ]
     },
     "execution_count": 66,
     "metadata": {},
     "output_type": "execute_result"
    }
   ],
   "source": [
    "#LinearRegression mae score\n",
    "mean_absolute_error(ytest,lr.predict(xtest))"
   ]
  },
  {
   "cell_type": "code",
   "execution_count": null,
   "id": "8706ec02",
   "metadata": {},
   "outputs": [],
   "source": []
  },
  {
   "cell_type": "markdown",
   "id": "37591809",
   "metadata": {},
   "source": [
    "# KNN"
   ]
  },
  {
   "cell_type": "code",
   "execution_count": 67,
   "id": "88c62125",
   "metadata": {},
   "outputs": [],
   "source": [
    "#import KNeighborsRegressor\n",
    "from sklearn.neighbors import KNeighborsRegressor"
   ]
  },
  {
   "cell_type": "code",
   "execution_count": 68,
   "id": "6cd00ba1",
   "metadata": {},
   "outputs": [],
   "source": [
    "#creating KNeighborsRegressor object\n",
    "knn = KNeighborsRegressor()"
   ]
  },
  {
   "cell_type": "code",
   "execution_count": 69,
   "id": "166a2621",
   "metadata": {},
   "outputs": [
    {
     "data": {
      "text/plain": [
       "KNeighborsRegressor()"
      ]
     },
     "execution_count": 69,
     "metadata": {},
     "output_type": "execute_result"
    }
   ],
   "source": [
    "# training model\n",
    "knn.fit(xtrain,ytrain)"
   ]
  },
  {
   "cell_type": "code",
   "execution_count": 70,
   "id": "0886caa3",
   "metadata": {},
   "outputs": [
    {
     "data": {
      "text/plain": [
       "array([[46358.441594],\n",
       "       [44169.358198],\n",
       "       [63339.717366],\n",
       "       [35854.997064],\n",
       "       [58879.567786],\n",
       "       [59750.211004],\n",
       "       [45184.25613 ],\n",
       "       [53033.272202],\n",
       "       [48800.502538],\n",
       "       [43794.516432],\n",
       "       [37709.285404],\n",
       "       [48452.996552],\n",
       "       [45952.896132],\n",
       "       [39744.242278],\n",
       "       [46339.787842],\n",
       "       [51471.6045  ],\n",
       "       [49793.76711 ],\n",
       "       [24626.72893 ],\n",
       "       [59695.716344],\n",
       "       [45922.26119 ],\n",
       "       [43327.43318 ],\n",
       "       [48626.133882],\n",
       "       [51546.135974],\n",
       "       [39219.327022],\n",
       "       [44744.647586],\n",
       "       [41381.659146],\n",
       "       [60063.039306],\n",
       "       [47167.668444],\n",
       "       [26874.62724 ],\n",
       "       [52370.525278],\n",
       "       [58273.656902],\n",
       "       [45941.29077 ],\n",
       "       [45683.236744],\n",
       "       [51775.371444],\n",
       "       [45770.48747 ],\n",
       "       [41403.132984],\n",
       "       [58458.676226],\n",
       "       [29568.770086],\n",
       "       [39895.600344],\n",
       "       [41794.13181 ],\n",
       "       [52594.514868],\n",
       "       [58302.47585 ],\n",
       "       [46775.317692],\n",
       "       [40473.750326],\n",
       "       [53275.520284],\n",
       "       [41541.183382],\n",
       "       [36800.478026],\n",
       "       [40103.253972],\n",
       "       [49929.044534],\n",
       "       [44846.245978],\n",
       "       [42245.393688],\n",
       "       [35152.914986],\n",
       "       [34889.03254 ],\n",
       "       [42082.730058],\n",
       "       [46106.725366],\n",
       "       [44548.2832  ],\n",
       "       [54883.56    ],\n",
       "       [43541.134422],\n",
       "       [45123.700546],\n",
       "       [38299.014042],\n",
       "       [59701.550934],\n",
       "       [41161.205762],\n",
       "       [29751.141858],\n",
       "       [51462.73374 ],\n",
       "       [38824.342902],\n",
       "       [47748.529324],\n",
       "       [57258.651228],\n",
       "       [32569.998138],\n",
       "       [43170.176328],\n",
       "       [48800.502538],\n",
       "       [56904.332098],\n",
       "       [29199.95282 ],\n",
       "       [54343.31198 ],\n",
       "       [44655.249568],\n",
       "       [57662.698496],\n",
       "       [26339.227532],\n",
       "       [40222.39827 ],\n",
       "       [49639.928814],\n",
       "       [31089.84328 ],\n",
       "       [53899.114716],\n",
       "       [41460.219086],\n",
       "       [32097.775944],\n",
       "       [38628.26728 ],\n",
       "       [47177.981776],\n",
       "       [47111.69378 ],\n",
       "       [33022.684556],\n",
       "       [34083.098128],\n",
       "       [34139.882948],\n",
       "       [43412.518168],\n",
       "       [36112.161608],\n",
       "       [34501.557064],\n",
       "       [39874.536342],\n",
       "       [33103.635596],\n",
       "       [42401.432614],\n",
       "       [32136.459566],\n",
       "       [48920.998002],\n",
       "       [43774.636294],\n",
       "       [45590.921772],\n",
       "       [43361.76023 ],\n",
       "       [52578.348088],\n",
       "       [42862.800932],\n",
       "       [32174.190426],\n",
       "       [49656.33801 ],\n",
       "       [57937.82743 ],\n",
       "       [31516.154242],\n",
       "       [41628.262976],\n",
       "       [44915.11436 ],\n",
       "       [42055.999576],\n",
       "       [46274.867352],\n",
       "       [42056.149402],\n",
       "       [37933.419678],\n",
       "       [51951.313556],\n",
       "       [44320.735834],\n",
       "       [45841.815654],\n",
       "       [52604.273662],\n",
       "       [52959.628178],\n",
       "       [61779.731934],\n",
       "       [48257.384818],\n",
       "       [42268.870628],\n",
       "       [32712.790944],\n",
       "       [58849.582952],\n",
       "       [39282.399326],\n",
       "       [48877.071044],\n",
       "       [35831.378642],\n",
       "       [46189.270304],\n",
       "       [29136.923736],\n",
       "       [38740.028334],\n",
       "       [46874.125508],\n",
       "       [61451.318154],\n",
       "       [35440.003698],\n",
       "       [43860.68168 ],\n",
       "       [46681.302142],\n",
       "       [57994.424142],\n",
       "       [40230.722496],\n",
       "       [58036.5234  ],\n",
       "       [44421.564204],\n",
       "       [43576.486274],\n",
       "       [47564.781242],\n",
       "       [43819.82997 ],\n",
       "       [41929.268894],\n",
       "       [48174.19486 ],\n",
       "       [31114.633986],\n",
       "       [52511.356534],\n",
       "       [53020.137724],\n",
       "       [43131.543758],\n",
       "       [37970.962388],\n",
       "       [46241.639006],\n",
       "       [46809.319632],\n",
       "       [30603.104142],\n",
       "       [37996.775684]])"
      ]
     },
     "execution_count": 70,
     "metadata": {},
     "output_type": "execute_result"
    }
   ],
   "source": [
    "# all prediction\n",
    "knn.predict(xtest)"
   ]
  },
  {
   "cell_type": "markdown",
   "id": "6f882821",
   "metadata": {},
   "source": [
    "# R^2 Score & MSE & MAE"
   ]
  },
  {
   "cell_type": "code",
   "execution_count": 71,
   "id": "ea88155b",
   "metadata": {},
   "outputs": [
    {
     "data": {
      "text/plain": [
       "0.923333801355153"
      ]
     },
     "execution_count": 71,
     "metadata": {},
     "output_type": "execute_result"
    }
   ],
   "source": [
    "#KNeighborsRegressor training score\n",
    "knn.score(xtrain,ytrain)"
   ]
  },
  {
   "cell_type": "code",
   "execution_count": 72,
   "id": "6d096a02",
   "metadata": {},
   "outputs": [
    {
     "data": {
      "text/plain": [
       "0.888328400056905"
      ]
     },
     "execution_count": 72,
     "metadata": {},
     "output_type": "execute_result"
    }
   ],
   "source": [
    "#KNeighborsRegressor testing score\n",
    "knn.score(xtest,ytest)"
   ]
  },
  {
   "cell_type": "code",
   "execution_count": 73,
   "id": "0e8b8026",
   "metadata": {},
   "outputs": [
    {
     "data": {
      "text/plain": [
       "0.888328400056905"
      ]
     },
     "execution_count": 73,
     "metadata": {},
     "output_type": "execute_result"
    }
   ],
   "source": [
    "#KNeighborsRegressor r^2 score\n",
    "r2_score(ytest,knn.predict(xtest))"
   ]
  },
  {
   "cell_type": "code",
   "execution_count": 74,
   "id": "c0093973",
   "metadata": {},
   "outputs": [
    {
     "data": {
      "text/plain": [
       "11915811.044006081"
      ]
     },
     "execution_count": 74,
     "metadata": {},
     "output_type": "execute_result"
    }
   ],
   "source": [
    "#KNeighborsRegressor mse score\n",
    "mean_squared_error(ytest,knn.predict(xtest))"
   ]
  },
  {
   "cell_type": "code",
   "execution_count": 75,
   "id": "a9ae521b",
   "metadata": {},
   "outputs": [
    {
     "data": {
      "text/plain": [
       "2668.1341058000007"
      ]
     },
     "execution_count": 75,
     "metadata": {},
     "output_type": "execute_result"
    }
   ],
   "source": [
    "#KNeighborsRegressor mae score\n",
    "mean_absolute_error(ytest,knn.predict(xtest))"
   ]
  },
  {
   "cell_type": "code",
   "execution_count": null,
   "id": "c2e92ace",
   "metadata": {},
   "outputs": [],
   "source": []
  },
  {
   "cell_type": "markdown",
   "id": "5ea2247e",
   "metadata": {},
   "source": [
    "# SVM"
   ]
  },
  {
   "cell_type": "code",
   "execution_count": 76,
   "id": "a9090776",
   "metadata": {},
   "outputs": [],
   "source": [
    "#import svr\n",
    "from sklearn.svm import SVR"
   ]
  },
  {
   "cell_type": "code",
   "execution_count": 77,
   "id": "de9c208e",
   "metadata": {},
   "outputs": [],
   "source": [
    "#creating svr object\n",
    "svr = SVR()"
   ]
  },
  {
   "cell_type": "code",
   "execution_count": 78,
   "id": "7a4c436d",
   "metadata": {},
   "outputs": [
    {
     "data": {
      "text/plain": [
       "SVR()"
      ]
     },
     "execution_count": 78,
     "metadata": {},
     "output_type": "execute_result"
    }
   ],
   "source": [
    "#training model\n",
    "svr.fit(xtrain,ytrain)"
   ]
  },
  {
   "cell_type": "code",
   "execution_count": 79,
   "id": "ef0a11f2",
   "metadata": {},
   "outputs": [
    {
     "data": {
      "text/plain": [
       "array([43671.04693118, 43663.59066459, 43690.09948429, 43649.11058479,\n",
       "       43683.79959465, 43686.49851166, 43671.89551818, 43687.51253418,\n",
       "       43674.84507303, 43668.86939229, 43646.19660463, 43668.52938028,\n",
       "       43663.79740321, 43645.92536463, 43663.7081793 , 43680.94749707,\n",
       "       43680.22464016, 43630.22322996, 43691.2473055 , 43674.13912529,\n",
       "       43651.21419319, 43678.0153088 , 43680.83923937, 43651.72243696,\n",
       "       43659.98507485, 43648.17079711, 43693.80544541, 43670.98399761,\n",
       "       43624.91401903, 43685.13327471, 43687.82416536, 43666.32287946,\n",
       "       43661.4832062 , 43680.88374561, 43661.19087996, 43645.34934065,\n",
       "       43686.24110946, 43630.58915764, 43654.9722343 , 43655.51720057,\n",
       "       43690.89614458, 43696.86893465, 43664.22257448, 43640.23160923,\n",
       "       43685.65790969, 43661.36447702, 43642.74554898, 43654.87938612,\n",
       "       43674.28700375, 43671.02327939, 43660.64961184, 43639.64820065,\n",
       "       43641.13640812, 43657.63763074, 43668.49081404, 43667.28485948,\n",
       "       43683.84081703, 43660.96200789, 43664.20038745, 43651.51058633,\n",
       "       43696.57892823, 43658.91643346, 43630.33400769, 43688.62797855,\n",
       "       43663.18254755, 43675.99104053, 43686.1173065 , 43632.63506205,\n",
       "       43660.11594849, 43668.59610446, 43688.15381439, 43633.94641261,\n",
       "       43689.21689864, 43667.20577558, 43682.53477056, 43625.3265032 ,\n",
       "       43654.28721515, 43674.42230099, 43633.89118865, 43679.13744672,\n",
       "       43658.07867694, 43628.04143113, 43639.49498193, 43666.57296924,\n",
       "       43679.24645009, 43648.25600079, 43645.8463555 , 43643.78189512,\n",
       "       43654.87446372, 43652.56263623, 43638.23257798, 43644.3278442 ,\n",
       "       43640.89207418, 43663.23554509, 43638.34462579, 43679.47061876,\n",
       "       43662.77331431, 43673.9427443 , 43663.63326921, 43684.25187552,\n",
       "       43672.73046994, 43628.29478474, 43676.54738104, 43682.04225966,\n",
       "       43647.53289556, 43663.70716803, 43659.47136021, 43656.82149652,\n",
       "       43660.78826967, 43650.97608443, 43646.10696774, 43669.48184415,\n",
       "       43658.48959606, 43662.32774333, 43682.98188659, 43684.30333802,\n",
       "       43689.10799314, 43677.11110782, 43660.0524417 , 43634.59866612,\n",
       "       43686.11433346, 43651.28996141, 43682.24298947, 43642.41240152,\n",
       "       43663.80387946, 43640.77070372, 43652.21670173, 43669.70983525,\n",
       "       43692.89086979, 43629.89548448, 43661.22668063, 43672.21933216,\n",
       "       43691.24766858, 43655.07490833, 43682.53205492, 43658.15801721,\n",
       "       43654.26305532, 43671.92416663, 43661.46604091, 43653.99313052,\n",
       "       43668.81401203, 43641.23646163, 43678.93038895, 43685.15684223,\n",
       "       43656.29667523, 43642.81260536, 43668.95976006, 43669.8291291 ,\n",
       "       43645.06788775, 43635.73344469])"
      ]
     },
     "execution_count": 79,
     "metadata": {},
     "output_type": "execute_result"
    }
   ],
   "source": [
    "# all prediction\n",
    "svr.predict(xtest)"
   ]
  },
  {
   "cell_type": "markdown",
   "id": "3c807bdb",
   "metadata": {},
   "source": [
    "# R^2 Score & MSE & MAE"
   ]
  },
  {
   "cell_type": "code",
   "execution_count": 80,
   "id": "3bd93efa",
   "metadata": {},
   "outputs": [
    {
     "data": {
      "text/plain": [
       "0.0026455469857873393"
      ]
     },
     "execution_count": 80,
     "metadata": {},
     "output_type": "execute_result"
    }
   ],
   "source": [
    "#svm training score\n",
    "svr.score(xtrain,ytrain)"
   ]
  },
  {
   "cell_type": "code",
   "execution_count": 81,
   "id": "9a64355d",
   "metadata": {},
   "outputs": [
    {
     "data": {
      "text/plain": [
       "-0.016598211127852647"
      ]
     },
     "execution_count": 81,
     "metadata": {},
     "output_type": "execute_result"
    }
   ],
   "source": [
    "#svm testing score\n",
    "svr.score(xtest,ytest)"
   ]
  },
  {
   "cell_type": "code",
   "execution_count": 82,
   "id": "5be0af76",
   "metadata": {},
   "outputs": [
    {
     "data": {
      "text/plain": [
       "-0.016598211127852647"
      ]
     },
     "execution_count": 82,
     "metadata": {},
     "output_type": "execute_result"
    }
   ],
   "source": [
    "#svm r^2 score\n",
    "r2_score(ytest,svr.predict(xtest))"
   ]
  },
  {
   "cell_type": "code",
   "execution_count": 83,
   "id": "400bd97e",
   "metadata": {},
   "outputs": [
    {
     "data": {
      "text/plain": [
       "108475137.79373515"
      ]
     },
     "execution_count": 83,
     "metadata": {},
     "output_type": "execute_result"
    }
   ],
   "source": [
    "#svm mse score\n",
    "mean_squared_error(ytest,svr.predict(xtest))"
   ]
  },
  {
   "cell_type": "code",
   "execution_count": 84,
   "id": "b47a22f6",
   "metadata": {},
   "outputs": [
    {
     "data": {
      "text/plain": [
       "8306.92377401893"
      ]
     },
     "execution_count": 84,
     "metadata": {},
     "output_type": "execute_result"
    }
   ],
   "source": [
    "#svm mae score\n",
    "mean_absolute_error(ytest,svr.predict(xtest))"
   ]
  },
  {
   "cell_type": "code",
   "execution_count": null,
   "id": "51f534cf",
   "metadata": {},
   "outputs": [],
   "source": []
  },
  {
   "cell_type": "markdown",
   "id": "59e3a56c",
   "metadata": {},
   "source": [
    "# DecisionTreeRegressor"
   ]
  },
  {
   "cell_type": "code",
   "execution_count": 85,
   "id": "653a9526",
   "metadata": {},
   "outputs": [],
   "source": [
    "#import DecisionTreeRegressor\n",
    "from sklearn.tree import DecisionTreeRegressor"
   ]
  },
  {
   "cell_type": "code",
   "execution_count": 86,
   "id": "c5d9c830",
   "metadata": {},
   "outputs": [],
   "source": [
    "#creating DecisionTreeRegressor object\n",
    "dtr = DecisionTreeRegressor()"
   ]
  },
  {
   "cell_type": "code",
   "execution_count": 87,
   "id": "c3fe765a",
   "metadata": {},
   "outputs": [
    {
     "data": {
      "text/plain": [
       "DecisionTreeRegressor()"
      ]
     },
     "execution_count": 87,
     "metadata": {},
     "output_type": "execute_result"
    }
   ],
   "source": [
    "#training model\n",
    "dtr.fit(xtrain,ytrain)"
   ]
  },
  {
   "cell_type": "code",
   "execution_count": 88,
   "id": "e8f46311",
   "metadata": {},
   "outputs": [
    {
     "data": {
      "text/plain": [
       "array([49336.11628, 46012.10616, 66648.25077, 28463.64326, 56563.98675,\n",
       "       57461.51158, 49336.11628, 60117.67886, 55915.46248, 56579.90338,\n",
       "       36543.93642, 51922.07691, 41673.44617, 30826.10903, 48013.6141 ,\n",
       "       50702.18103, 48734.35708, 19525.29827, 56563.98675, 45738.3343 ,\n",
       "       44846.68557, 52665.36511, 47693.23482, 37303.56701, 45442.15353,\n",
       "       37871.7082 , 63738.39065, 56499.10202, 19525.29827, 51612.14311,\n",
       "       59045.51309, 49721.31082, 38930.55234, 38138.57511, 44500.81936,\n",
       "       36086.93161, 58667.06865, 29425.83001, 47715.96049, 35848.82935,\n",
       "       56764.44728, 64545.16339, 32553.53423, 30826.10903, 54850.38742,\n",
       "       51551.67997, 38138.57511, 51551.67997, 47984.12043, 46012.10616,\n",
       "       43503.97349, 28645.39425, 36125.48846, 38172.83602, 45112.94547,\n",
       "       49373.37555, 56579.90338, 48300.02057, 41673.44617, 49442.12107,\n",
       "       65592.22012, 41026.02421, 31696.99679, 52954.93121, 47483.85316,\n",
       "       56579.90338, 57441.44414, 33428.40183, 46935.72774, 31696.99679,\n",
       "       58667.06865, 30826.10903, 56071.61377, 50539.90169, 48349.16457,\n",
       "       21471.11367, 37714.31659, 49248.10595, 28925.70549, 56499.10202,\n",
       "       36543.93642, 36086.93161, 40660.38317, 47719.47741, 46012.10616,\n",
       "       36517.70996, 36517.70996, 36517.70996, 47935.9394 , 36367.18452,\n",
       "       31696.99679, 37883.24231, 33640.73697, 47805.25605, 35457.1486 ,\n",
       "       45593.6849 , 42909.27129, 42484.02283, 49258.87571, 52116.90791,\n",
       "       52954.93121, 30240.60975, 57125.41541, 57461.51158, 31696.99679,\n",
       "       48349.16457, 39810.34817, 43401.56612, 49142.51174, 41814.72067,\n",
       "       39270.57909, 47760.66427, 41673.44617, 56510.13294, 60117.67886,\n",
       "       60117.67886, 62028.71192, 47143.44008, 49442.12107, 34803.82395,\n",
       "       58840.53964, 37883.24231, 47693.23482, 31696.99679, 34922.42846,\n",
       "       36517.70996, 38138.57511, 57125.41541, 57461.51158, 39270.57909,\n",
       "       42909.27129, 51221.04249, 59538.40327, 35457.1486 , 67092.23276,\n",
       "       44500.81936, 52665.36511, 42592.88647, 39331.20127, 38901.60925,\n",
       "       49091.97185, 29556.7932 , 54387.27727, 51866.48719, 25971.95673,\n",
       "       42705.11311, 49079.61942, 42484.02283, 28164.86039, 36086.93161])"
      ]
     },
     "execution_count": 88,
     "metadata": {},
     "output_type": "execute_result"
    }
   ],
   "source": [
    "# all prediction\n",
    "dtr.predict(xtest)"
   ]
  },
  {
   "cell_type": "markdown",
   "id": "8a67f736",
   "metadata": {},
   "source": [
    "# R^2 Score & MSE & MAE"
   ]
  },
  {
   "cell_type": "code",
   "execution_count": 89,
   "id": "79a800c7",
   "metadata": {},
   "outputs": [
    {
     "data": {
      "text/plain": [
       "1.0"
      ]
     },
     "execution_count": 89,
     "metadata": {},
     "output_type": "execute_result"
    }
   ],
   "source": [
    "#DecisionTreeRegressor training score\n",
    "dtr.score(xtrain,ytrain)"
   ]
  },
  {
   "cell_type": "code",
   "execution_count": 90,
   "id": "ac5e2772",
   "metadata": {},
   "outputs": [
    {
     "data": {
      "text/plain": [
       "0.7379251189718208"
      ]
     },
     "execution_count": 90,
     "metadata": {},
     "output_type": "execute_result"
    }
   ],
   "source": [
    "#DecisionTreeRegressor testing score\n",
    "dtr.score(xtest,ytest)"
   ]
  },
  {
   "cell_type": "code",
   "execution_count": 91,
   "id": "61d1c5da",
   "metadata": {},
   "outputs": [
    {
     "data": {
      "text/plain": [
       "0.7379251189718208"
      ]
     },
     "execution_count": 91,
     "metadata": {},
     "output_type": "execute_result"
    }
   ],
   "source": [
    "#DecisionTreeRegressor r^2 score\n",
    "r2_score(ytest,dtr.predict(xtest))"
   ]
  },
  {
   "cell_type": "code",
   "execution_count": 92,
   "id": "be00b384",
   "metadata": {},
   "outputs": [
    {
     "data": {
      "text/plain": [
       "27964449.00317964"
      ]
     },
     "execution_count": 92,
     "metadata": {},
     "output_type": "execute_result"
    }
   ],
   "source": [
    "#DecisionTreeRegressor mse score\n",
    "mean_squared_error(ytest,dtr.predict(xtest))"
   ]
  },
  {
   "cell_type": "code",
   "execution_count": 93,
   "id": "4dfd45ea",
   "metadata": {},
   "outputs": [
    {
     "data": {
      "text/plain": [
       "4098.001963666667"
      ]
     },
     "execution_count": 93,
     "metadata": {},
     "output_type": "execute_result"
    }
   ],
   "source": [
    "#DecisionTreeRegressor mae score\n",
    "mean_absolute_error(ytest,dtr.predict(xtest))"
   ]
  },
  {
   "cell_type": "code",
   "execution_count": null,
   "id": "fd8a554f",
   "metadata": {},
   "outputs": [],
   "source": []
  },
  {
   "cell_type": "markdown",
   "id": "95d9d818",
   "metadata": {},
   "source": [
    "# RandomForestRegressor"
   ]
  },
  {
   "cell_type": "code",
   "execution_count": 94,
   "id": "2dc867e5",
   "metadata": {},
   "outputs": [],
   "source": [
    "#import RandomForestRegressor\n",
    "from sklearn.ensemble import RandomForestRegressor"
   ]
  },
  {
   "cell_type": "code",
   "execution_count": 95,
   "id": "e7166619",
   "metadata": {},
   "outputs": [],
   "source": [
    "#creating RandomForestRegressor object\n",
    "rfr = RandomForestRegressor()"
   ]
  },
  {
   "cell_type": "code",
   "execution_count": 96,
   "id": "2c39689c",
   "metadata": {},
   "outputs": [
    {
     "data": {
      "text/plain": [
       "RandomForestRegressor()"
      ]
     },
     "execution_count": 96,
     "metadata": {},
     "output_type": "execute_result"
    }
   ],
   "source": [
    "#training model\n",
    "rfr.fit(xtrain,ytrain)"
   ]
  },
  {
   "cell_type": "code",
   "execution_count": 97,
   "id": "b807d73e",
   "metadata": {},
   "outputs": [
    {
     "data": {
      "text/plain": [
       "array([47012.4630586, 43246.495933 , 63418.2100973, 34756.0245264,\n",
       "       59633.0730539, 59054.7804409, 54576.4118365, 55802.3553929,\n",
       "       50941.8038661, 46819.4723026, 37875.7410247, 46872.1403998,\n",
       "       42203.4752425, 38804.0465498, 45021.2268846, 52098.3367987,\n",
       "       48382.7522424, 20731.2056087, 59043.0005585, 48052.2466146,\n",
       "       42156.963752 , 51403.6205868, 51241.4997508, 35590.3488663,\n",
       "       42203.0896378, 38509.5816851, 60113.0781293, 48376.0384805,\n",
       "       22167.1395937, 52488.6289456, 56017.3278064, 46673.2672715,\n",
       "       39328.0540902, 51862.2798587, 43235.4782426, 39689.6476334,\n",
       "       56369.6784812, 29726.099564 , 41695.3618965, 40939.5500516,\n",
       "       55740.282686 , 58186.6461765, 44766.554601 , 37089.7479014,\n",
       "       52330.4140861, 43642.6379728, 38508.1453552, 42075.42234  ,\n",
       "       51833.914927 , 46531.977773 , 42548.8024435, 32562.1542632,\n",
       "       38497.8493546, 39712.7844458, 46128.7535834, 46695.642143 ,\n",
       "       57605.0166137, 45055.4879989, 42722.6532318, 41182.0683201,\n",
       "       61838.5867404, 41384.185517 , 28748.8487424, 51150.8127433,\n",
       "       45237.0563096, 50650.1694043, 58093.4144672, 33749.1422755,\n",
       "       42849.2335264, 46937.7774407, 56521.1563805, 32058.3497848,\n",
       "       55304.3204387, 55961.0044361, 53114.9217234, 22187.6343812,\n",
       "       39722.1756504, 50502.8134213, 31497.9165605, 57006.3519202,\n",
       "       41416.3571173, 33153.1016448, 38090.0664558, 44036.1990968,\n",
       "       49065.7074347, 34519.1594575, 34790.3303649, 33544.8639619,\n",
       "       44002.4965614, 37636.3701413, 33670.910326 , 37338.6050295,\n",
       "       32454.3598166, 44482.3760825, 35655.6667387, 49236.2827526,\n",
       "       43782.2690621, 46758.3601119, 43787.7425705, 52551.5002209,\n",
       "       47496.5833893, 31031.8108477, 52786.4488251, 56494.5998733,\n",
       "       32659.2733896, 44838.6075328, 43836.7176784, 42527.0920578,\n",
       "       44810.0236452, 41521.5225114, 39163.2259566, 46456.2701276,\n",
       "       39236.4807232, 47341.197395 , 52616.948846 , 52713.9570561,\n",
       "       62891.415706 , 51107.1834341, 42948.7306859, 32212.7811543,\n",
       "       56774.5553606, 39531.4828613, 51639.8630229, 35583.1800734,\n",
       "       44008.4684172, 32138.6976855, 40369.5605247, 52117.2457809,\n",
       "       59875.7389472, 33788.8256915, 41769.8902456, 50097.0303272,\n",
       "       60486.09863  , 38820.4162456, 57515.8977534, 41080.2099187,\n",
       "       39818.8770402, 45790.2256761, 42884.070524 , 41838.1482753,\n",
       "       48207.1890352, 33083.689885 , 50445.571451 , 52282.3989788,\n",
       "       31580.1437553, 38198.2549532, 46621.5529943, 45257.5458462,\n",
       "       35080.9930234, 37360.3123913])"
      ]
     },
     "execution_count": 97,
     "metadata": {},
     "output_type": "execute_result"
    }
   ],
   "source": [
    "# all prediction\n",
    "rfr.predict(xtest)"
   ]
  },
  {
   "cell_type": "markdown",
   "id": "a6652670",
   "metadata": {},
   "source": [
    "# R^2 Score & MSE & MAE"
   ]
  },
  {
   "cell_type": "code",
   "execution_count": 98,
   "id": "47f5513d",
   "metadata": {},
   "outputs": [
    {
     "data": {
      "text/plain": [
       "0.9858885656471703"
      ]
     },
     "execution_count": 98,
     "metadata": {},
     "output_type": "execute_result"
    }
   ],
   "source": [
    "#RandomForestRegressor training score\n",
    "rfr.score(xtrain,ytrain)"
   ]
  },
  {
   "cell_type": "code",
   "execution_count": 99,
   "id": "44423c41",
   "metadata": {},
   "outputs": [
    {
     "data": {
      "text/plain": [
       "0.9307367946233537"
      ]
     },
     "execution_count": 99,
     "metadata": {},
     "output_type": "execute_result"
    }
   ],
   "source": [
    "#RandomForestRegressor testing score\n",
    "rfr.score(xtest,ytest)"
   ]
  },
  {
   "cell_type": "code",
   "execution_count": 100,
   "id": "fb00c2a2",
   "metadata": {},
   "outputs": [
    {
     "data": {
      "text/plain": [
       "0.9307367946233537"
      ]
     },
     "execution_count": 100,
     "metadata": {},
     "output_type": "execute_result"
    }
   ],
   "source": [
    "#RandomForestRegressor r^2 score\n",
    "r2_score(ytest,rfr.predict(xtest))"
   ]
  },
  {
   "cell_type": "code",
   "execution_count": 101,
   "id": "155e24d3",
   "metadata": {},
   "outputs": [
    {
     "data": {
      "text/plain": [
       "7390663.946705073"
      ]
     },
     "execution_count": 101,
     "metadata": {},
     "output_type": "execute_result"
    }
   ],
   "source": [
    "#RandomForestRegressor mse score\n",
    "mean_squared_error(ytest,rfr.predict(xtest))"
   ]
  },
  {
   "cell_type": "code",
   "execution_count": 102,
   "id": "dacee4d7",
   "metadata": {},
   "outputs": [
    {
     "data": {
      "text/plain": [
       "2043.443750752667"
      ]
     },
     "execution_count": 102,
     "metadata": {},
     "output_type": "execute_result"
    }
   ],
   "source": [
    "#RandomForestRegressor mae score\n",
    "mean_absolute_error(ytest,rfr.predict(xtest))"
   ]
  },
  {
   "cell_type": "code",
   "execution_count": null,
   "id": "1eaab4e8",
   "metadata": {},
   "outputs": [],
   "source": []
  },
  {
   "cell_type": "markdown",
   "id": "28c8d579",
   "metadata": {},
   "source": [
    "# AdaBoostRegressor"
   ]
  },
  {
   "cell_type": "code",
   "execution_count": 103,
   "id": "63d09800",
   "metadata": {},
   "outputs": [],
   "source": [
    "#import AdaBoostRegressor\n",
    "from sklearn.ensemble import AdaBoostRegressor"
   ]
  },
  {
   "cell_type": "code",
   "execution_count": 104,
   "id": "2377726e",
   "metadata": {},
   "outputs": [],
   "source": [
    "#creating AdaBoostRegressor object\n",
    "abr = AdaBoostRegressor()"
   ]
  },
  {
   "cell_type": "code",
   "execution_count": 105,
   "id": "5e1984ea",
   "metadata": {},
   "outputs": [
    {
     "data": {
      "text/plain": [
       "AdaBoostRegressor()"
      ]
     },
     "execution_count": 105,
     "metadata": {},
     "output_type": "execute_result"
    }
   ],
   "source": [
    "#training model\n",
    "abr.fit(xtrain,ytrain)"
   ]
  },
  {
   "cell_type": "code",
   "execution_count": 106,
   "id": "b96d31f7",
   "metadata": {},
   "outputs": [
    {
     "data": {
      "text/plain": [
       "array([49018.09663552, 41459.82897091, 59256.17806717, 35712.11546972,\n",
       "       60688.45108529, 55162.13640509, 55870.05618077, 50690.26625485,\n",
       "       46487.53070101, 45621.00019316, 39361.6717032 , 46921.68242125,\n",
       "       38157.73708727, 37726.34513632, 45867.97256065, 50337.62770947,\n",
       "       50577.47448503, 25418.15886611, 60594.81221961, 48969.01212132,\n",
       "       38417.30296269, 50638.23475317, 54371.47008113, 37311.22730583,\n",
       "       44578.12672333, 40332.93505368, 58371.60935229, 47753.8892204 ,\n",
       "       26373.93368667, 53896.83362724, 50577.47448503, 47059.22795929,\n",
       "       44070.59743684, 52465.70973081, 44070.59743684, 38735.46544894,\n",
       "       53921.62665806, 30297.411647  , 38417.30296269, 37932.1985842 ,\n",
       "       57161.08248819, 55253.40632578, 41156.23137651, 37726.34513632,\n",
       "       49412.99383048, 41156.23137651, 38120.73273707, 41962.57561036,\n",
       "       50337.62770947, 45858.02501164, 43347.80126588, 35184.83970016,\n",
       "       38553.33660385, 39361.6717032 , 47059.22795929, 43539.31971887,\n",
       "       55338.93612892, 45621.00019316, 38695.29594667, 44154.10046611,\n",
       "       60096.13921627, 42460.40779645, 31774.24214633, 52984.13783718,\n",
       "       47059.22795929, 49169.48769138, 54068.26206419, 33979.48697863,\n",
       "       43647.26497413, 42033.18972873, 53921.62665806, 33621.49804162,\n",
       "       50690.26625485, 52738.43866583, 50490.72072026, 25804.09794667,\n",
       "       37144.76461217, 50337.62770947, 30641.610429  , 55898.1551747 ,\n",
       "       41962.57561036, 34682.44803959, 38553.33660385, 48454.72526471,\n",
       "       46369.30996475, 36943.82123433, 36943.82123433, 34942.62372261,\n",
       "       41156.23137651, 39763.13647741, 36393.18123734, 36690.384391  ,\n",
       "       38417.30296269, 45858.02501164, 37871.55780808, 50690.26625485,\n",
       "       42571.27362957, 49084.84754947, 46487.53070101, 50345.10831311,\n",
       "       48454.72526471, 31774.24214633, 49412.99383048, 55162.13640509,\n",
       "       35217.22277243, 40332.93505368, 48876.38478706, 44289.60608727,\n",
       "       43863.0533766 , 42428.50498503, 37726.34513632, 49018.09663552,\n",
       "       37213.2734295 , 45128.5325374 , 49018.09663552, 48081.14145471,\n",
       "       60096.13921627, 47776.31121473, 46992.3368489 , 35372.45569558,\n",
       "       54371.47008113, 38735.46544894, 55338.93612892, 36393.18123734,\n",
       "       44578.12672333, 35649.8236999 , 43347.80126588, 49412.99383048,\n",
       "       55338.93612892, 31950.98681667, 44070.59743684, 45834.75272636,\n",
       "       57350.15246545, 39400.21710778, 54371.47008113, 41162.39638206,\n",
       "       44154.10046611, 47776.31121473, 42428.50498503, 43647.26497413,\n",
       "       46487.53070101, 37879.77948308, 48081.14145471, 50638.23475317,\n",
       "       30559.54325667, 38411.74763614, 46309.94183491, 43647.26497413,\n",
       "       37212.67356755, 37726.34513632])"
      ]
     },
     "execution_count": 106,
     "metadata": {},
     "output_type": "execute_result"
    }
   ],
   "source": [
    "# all prediction\n",
    "abr.predict(xtest)"
   ]
  },
  {
   "cell_type": "markdown",
   "id": "677ecad4",
   "metadata": {},
   "source": [
    "# R^2 Score & MSE & MAE"
   ]
  },
  {
   "cell_type": "code",
   "execution_count": 107,
   "id": "86081a41",
   "metadata": {},
   "outputs": [
    {
     "data": {
      "text/plain": [
       "0.8875238645950243"
      ]
     },
     "execution_count": 107,
     "metadata": {},
     "output_type": "execute_result"
    }
   ],
   "source": [
    "#AdaBoostRegressor training score\n",
    "abr.score(xtrain,ytrain)"
   ]
  },
  {
   "cell_type": "code",
   "execution_count": 108,
   "id": "cfe24c12",
   "metadata": {},
   "outputs": [
    {
     "data": {
      "text/plain": [
       "0.8181563549432859"
      ]
     },
     "execution_count": 108,
     "metadata": {},
     "output_type": "execute_result"
    }
   ],
   "source": [
    "#AdaBoostRegressor testing score\n",
    "abr.score(xtest,ytest)"
   ]
  },
  {
   "cell_type": "code",
   "execution_count": 109,
   "id": "17613cf2",
   "metadata": {},
   "outputs": [
    {
     "data": {
      "text/plain": [
       "0.8181563549432859"
      ]
     },
     "execution_count": 109,
     "metadata": {},
     "output_type": "execute_result"
    }
   ],
   "source": [
    "#AdaBoostRegressor r^2 score\n",
    "r2_score(ytest,abr.predict(xtest))"
   ]
  },
  {
   "cell_type": "code",
   "execution_count": 110,
   "id": "bbe22a6f",
   "metadata": {},
   "outputs": [
    {
     "data": {
      "text/plain": [
       "19403451.8637977"
      ]
     },
     "execution_count": 110,
     "metadata": {},
     "output_type": "execute_result"
    }
   ],
   "source": [
    "#AdaBoostRegressor mse score\n",
    "mean_squared_error(ytest,abr.predict(xtest))"
   ]
  },
  {
   "cell_type": "code",
   "execution_count": 111,
   "id": "421b48ae",
   "metadata": {},
   "outputs": [
    {
     "data": {
      "text/plain": [
       "3619.1476572538113"
      ]
     },
     "execution_count": 111,
     "metadata": {},
     "output_type": "execute_result"
    }
   ],
   "source": [
    "#AdaBoostRegressor mae score\n",
    "mean_absolute_error(ytest,abr.predict(xtest))"
   ]
  },
  {
   "cell_type": "code",
   "execution_count": null,
   "id": "ed18f434",
   "metadata": {},
   "outputs": [],
   "source": []
  },
  {
   "cell_type": "markdown",
   "id": "dfa4695b",
   "metadata": {},
   "source": [
    "# GradientBoostingRegressor"
   ]
  },
  {
   "cell_type": "code",
   "execution_count": 112,
   "id": "07d7686a",
   "metadata": {},
   "outputs": [],
   "source": [
    "#import GradientBoostingRegressor\n",
    "from sklearn.ensemble import GradientBoostingRegressor"
   ]
  },
  {
   "cell_type": "code",
   "execution_count": 113,
   "id": "1348dcf3",
   "metadata": {},
   "outputs": [],
   "source": [
    "#creating GradientBoostingRegressor object\n",
    "gbr = GradientBoostingRegressor()"
   ]
  },
  {
   "cell_type": "code",
   "execution_count": 114,
   "id": "b2d50a91",
   "metadata": {},
   "outputs": [
    {
     "data": {
      "text/plain": [
       "GradientBoostingRegressor()"
      ]
     },
     "execution_count": 114,
     "metadata": {},
     "output_type": "execute_result"
    }
   ],
   "source": [
    "#training model\n",
    "gbr.fit(xtrain,ytrain)"
   ]
  },
  {
   "cell_type": "code",
   "execution_count": 115,
   "id": "29e5a455",
   "metadata": {},
   "outputs": [
    {
     "data": {
      "text/plain": [
       "array([45981.84020868, 44500.23214427, 63480.75763155, 31034.6544949 ,\n",
       "       59797.41303571, 61673.14708629, 53827.05518823, 54451.31010677,\n",
       "       51492.90937743, 47816.07325128, 37205.48363146, 49694.47228164,\n",
       "       42864.87117949, 39168.35204865, 44003.43994298, 51571.38156083,\n",
       "       48362.9552568 , 19083.22152915, 60336.6186099 , 49029.8220503 ,\n",
       "       40510.69658527, 51020.62778561, 51963.36684848, 35190.07335046,\n",
       "       45802.0336902 , 37790.44129972, 62687.20576568, 46079.87085779,\n",
       "       23799.46970279, 51698.94835465, 55782.12259377, 47172.16710293,\n",
       "       40615.68114994, 53071.34504942, 44109.9345918 , 40075.36286835,\n",
       "       61140.35424121, 30533.62187082, 43276.81980258, 41613.98222547,\n",
       "       57315.63615994, 57670.00155345, 41730.11556841, 36160.77471949,\n",
       "       51139.17511169, 42009.31868292, 38045.19692031, 41307.94342443,\n",
       "       52020.3388072 , 46959.19293537, 41714.40726755, 32124.89875324,\n",
       "       39157.91377288, 38439.87926432, 45401.73096153, 47891.45091813,\n",
       "       59861.21674612, 44219.42324253, 44977.06545192, 39126.00483495,\n",
       "       65507.59991439, 42870.69878091, 26435.06115571, 51186.15564444,\n",
       "       43204.09827494, 52269.03590502, 58293.282331  , 33230.77727748,\n",
       "       46220.56278868, 48063.41889821, 56642.87340583, 29949.25945968,\n",
       "       55743.76000295, 55630.48154864, 54592.21430129, 22041.13156735,\n",
       "       42053.36453711, 48412.46480195, 32705.29120674, 60464.66768011,\n",
       "       40490.30463793, 31351.6256442 , 37942.3266132 , 44431.45430765,\n",
       "       47438.95165541, 38778.43344308, 38198.97809326, 33793.61485226,\n",
       "       41492.40849275, 37197.41721426, 31078.54803452, 36201.47628077,\n",
       "       33352.45503115, 44429.27314654, 34551.49872442, 50748.25097629,\n",
       "       43394.93992887, 48087.38582987, 44529.30968772, 52614.27072032,\n",
       "       46766.41410436, 30008.28063335, 53711.58979035, 59325.92880478,\n",
       "       29277.25584434, 42757.56731725, 44144.38702411, 43262.97779742,\n",
       "       44904.8786136 , 40647.00156293, 39197.09517395, 47155.24303278,\n",
       "       40873.65754936, 49875.85339885, 52531.2834209 , 52229.5708219 ,\n",
       "       64573.99856685, 50319.45666002, 43403.18650957, 33915.15664597,\n",
       "       59154.2262025 , 42242.70746025, 51620.24630064, 32744.47361119,\n",
       "       42312.35665471, 33056.30040777, 40979.53951058, 55122.07706844,\n",
       "       62617.28925208, 35135.3345613 , 41211.54115854, 52001.67406585,\n",
       "       63063.30673506, 40023.04192043, 59878.41854726, 40872.67364548,\n",
       "       40789.07232034, 45461.64992171, 45650.50138605, 43232.22327456,\n",
       "       49043.46708854, 30773.61802122, 51267.98396486, 51766.95466303,\n",
       "       35415.07313667, 36891.59166161, 46846.53974467, 44988.12324135,\n",
       "       33900.79557724, 37259.73421238])"
      ]
     },
     "execution_count": 115,
     "metadata": {},
     "output_type": "execute_result"
    }
   ],
   "source": [
    "# all prediction\n",
    "gbr.predict(xtest)"
   ]
  },
  {
   "cell_type": "markdown",
   "id": "c7f7a5b6",
   "metadata": {},
   "source": [
    "# R^2 Score & MSE & MAE"
   ]
  },
  {
   "cell_type": "code",
   "execution_count": 116,
   "id": "2f56656f",
   "metadata": {},
   "outputs": [
    {
     "data": {
      "text/plain": [
       "0.9950869893177131"
      ]
     },
     "execution_count": 116,
     "metadata": {},
     "output_type": "execute_result"
    }
   ],
   "source": [
    "#GradientBoostingRegressor training score\n",
    "gbr.score(xtrain,ytrain)"
   ]
  },
  {
   "cell_type": "code",
   "execution_count": 117,
   "id": "c763a3c3",
   "metadata": {},
   "outputs": [
    {
     "data": {
      "text/plain": [
       "0.9544278628952495"
      ]
     },
     "execution_count": 117,
     "metadata": {},
     "output_type": "execute_result"
    }
   ],
   "source": [
    "#GradientBoostingRegressor testing score\n",
    "gbr.score(xtest,ytest)"
   ]
  },
  {
   "cell_type": "code",
   "execution_count": 118,
   "id": "6ace5c6e",
   "metadata": {},
   "outputs": [
    {
     "data": {
      "text/plain": [
       "0.9544278628952495"
      ]
     },
     "execution_count": 118,
     "metadata": {},
     "output_type": "execute_result"
    }
   ],
   "source": [
    "#GradientBoostingRegressor r^2 score\n",
    "r2_score(ytest,gbr.predict(xtest))"
   ]
  },
  {
   "cell_type": "code",
   "execution_count": 119,
   "id": "da060e52",
   "metadata": {},
   "outputs": [
    {
     "data": {
      "text/plain": [
       "4862731.212666961"
      ]
     },
     "execution_count": 119,
     "metadata": {},
     "output_type": "execute_result"
    }
   ],
   "source": [
    "#GradientBoostingRegressor mse score\n",
    "mean_squared_error(ytest,gbr.predict(xtest))"
   ]
  },
  {
   "cell_type": "code",
   "execution_count": 120,
   "id": "69eb1fcb",
   "metadata": {},
   "outputs": [
    {
     "data": {
      "text/plain": [
       "1648.9188587283443"
      ]
     },
     "execution_count": 120,
     "metadata": {},
     "output_type": "execute_result"
    }
   ],
   "source": [
    "#GradientBoostingRegressor mae score\n",
    "mean_absolute_error(ytest,gbr.predict(xtest))"
   ]
  },
  {
   "cell_type": "code",
   "execution_count": null,
   "id": "646429c7",
   "metadata": {},
   "outputs": [],
   "source": []
  },
  {
   "cell_type": "code",
   "execution_count": null,
   "id": "8059d578",
   "metadata": {},
   "outputs": [],
   "source": []
  },
  {
   "cell_type": "markdown",
   "id": "0f65703d",
   "metadata": {},
   "source": [
    "# Best Machine Learning Model Identification"
   ]
  },
  {
   "cell_type": "code",
   "execution_count": 121,
   "id": "b7737b03",
   "metadata": {},
   "outputs": [],
   "source": [
    "# all r^2 score dataframe\n",
    "final_data = pd.DataFrame({\"Model\":[\"LR\",\"KNN\",\"SVM\",\"DT\",\"RF\",\"AB\",\"GB\"],\"R2 Score\":[r2_score(ytest,lr.predict(xtest)),\n",
    "                                                                                       r2_score(ytest,knn.predict(xtest)),\n",
    "                                                                                       r2_score(ytest,svr.predict(xtest)),\n",
    "                                                                                       r2_score(ytest,dtr.predict(xtest)),\n",
    "                                                                                       r2_score(ytest,rfr.predict(xtest)),\n",
    "                                                                                       r2_score(ytest,abr.predict(xtest)),\n",
    "                                                                                       r2_score(ytest,gbr.predict(xtest))]})"
   ]
  },
  {
   "cell_type": "code",
   "execution_count": 122,
   "id": "b329791d",
   "metadata": {},
   "outputs": [
    {
     "data": {
      "text/html": [
       "<div>\n",
       "<style scoped>\n",
       "    .dataframe tbody tr th:only-of-type {\n",
       "        vertical-align: middle;\n",
       "    }\n",
       "\n",
       "    .dataframe tbody tr th {\n",
       "        vertical-align: top;\n",
       "    }\n",
       "\n",
       "    .dataframe thead th {\n",
       "        text-align: right;\n",
       "    }\n",
       "</style>\n",
       "<table border=\"1\" class=\"dataframe\">\n",
       "  <thead>\n",
       "    <tr style=\"text-align: right;\">\n",
       "      <th></th>\n",
       "      <th>Model</th>\n",
       "      <th>R2 Score</th>\n",
       "    </tr>\n",
       "  </thead>\n",
       "  <tbody>\n",
       "    <tr>\n",
       "      <th>0</th>\n",
       "      <td>LR</td>\n",
       "      <td>0.999398</td>\n",
       "    </tr>\n",
       "    <tr>\n",
       "      <th>1</th>\n",
       "      <td>KNN</td>\n",
       "      <td>0.888328</td>\n",
       "    </tr>\n",
       "    <tr>\n",
       "      <th>2</th>\n",
       "      <td>SVM</td>\n",
       "      <td>-0.016598</td>\n",
       "    </tr>\n",
       "    <tr>\n",
       "      <th>3</th>\n",
       "      <td>DT</td>\n",
       "      <td>0.737925</td>\n",
       "    </tr>\n",
       "    <tr>\n",
       "      <th>4</th>\n",
       "      <td>RF</td>\n",
       "      <td>0.930737</td>\n",
       "    </tr>\n",
       "    <tr>\n",
       "      <th>5</th>\n",
       "      <td>AB</td>\n",
       "      <td>0.818156</td>\n",
       "    </tr>\n",
       "    <tr>\n",
       "      <th>6</th>\n",
       "      <td>GB</td>\n",
       "      <td>0.954428</td>\n",
       "    </tr>\n",
       "  </tbody>\n",
       "</table>\n",
       "</div>"
      ],
      "text/plain": [
       "  Model  R2 Score\n",
       "0    LR  0.999398\n",
       "1   KNN  0.888328\n",
       "2   SVM -0.016598\n",
       "3    DT  0.737925\n",
       "4    RF  0.930737\n",
       "5    AB  0.818156\n",
       "6    GB  0.954428"
      ]
     },
     "execution_count": 122,
     "metadata": {},
     "output_type": "execute_result"
    }
   ],
   "source": [
    "# all r^2 score\n",
    "final_data"
   ]
  },
  {
   "cell_type": "code",
   "execution_count": 123,
   "id": "fb03937c",
   "metadata": {},
   "outputs": [
    {
     "data": {
      "image/png": "[encoded data removed]",
      "text/plain": [
       "<Figure size 640x480 with 1 Axes>"
      ]
     },
     "metadata": {},
     "output_type": "display_data"
    }
   ],
   "source": [
    "#r^2 score bar chart\n",
    "sns.barplot(final_data[\"Model\"],final_data[\"R2 Score\"])\n",
    "plt.show()"
   ]
  },
  {
   "cell_type": "code",
   "execution_count": null,
   "id": "feac5690",
   "metadata": {},
   "outputs": [],
   "source": []
  },
  {
   "cell_type": "markdown",
   "id": "979e29ca",
   "metadata": {},
   "source": [
    "# Download ML Model"
   ]
  },
  {
   "cell_type": "code",
   "execution_count": 124,
   "id": "7528db1e",
   "metadata": {},
   "outputs": [],
   "source": [
    "#import pickle\n",
    "import  pickle as pk"
   ]
  },
  {
   "cell_type": "code",
   "execution_count": 125,
   "id": "2c62e578",
   "metadata": {},
   "outputs": [],
   "source": [
    "#download ml model pickle file \n",
    "pk.dump(lr,open(\"Car_Purchasing_Machine_Learning_Model\",\"wb\"))"
   ]
  },
  {
   "cell_type": "code",
   "execution_count": null,
   "id": "9da2766d",
   "metadata": {},
   "outputs": [],
   "source": []
  }
 ],
 "metadata": {
  "kernelspec": {
   "display_name": "Python 3 (ipykernel)",
   "language": "python",
   "name": "python3"
  },
  "language_info": {
   "codemirror_mode": {
    "name": "ipython",
    "version": 3
   },
   "file_extension": ".py",
   "mimetype": "text/x-python",
   "name": "python",
   "nbconvert_exporter": "python",
   "pygments_lexer": "ipython3",
   "version": "3.9.13"
  }
 },
 "nbformat": 4,
 "nbformat_minor": 5
}
